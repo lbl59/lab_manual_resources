{
 "cells": [
  {
   "cell_type": "markdown",
   "id": "4691a7c0",
   "metadata": {},
   "source": [
    "# Sensitivity Analysis\n",
    "There are two types of sensitivity analysis:\n",
    "1. **Local sensitivity analysis (LSA)**: Performed by varying uncertain model parameters around specific (initial) values. \n",
    "    * The goal is to explore how small changes in input variables influence changes in model output.    \n",
    "    * Assumes that input variables are independent (they do not interact).\n",
    "    * If this assumption is false, LSA may underestimate the influence that the inputs have on output metrics.    \n",
    "    * E.g. One-at-a-time analysis \n",
    "2. **Global sensitivity analysis (GSA)**: Performed by varying uncertain model input within the entire feasible space of potential input values. \n",
    "   * Reveals the global and interactive effects of each input variable on model output.\n",
    "   * *Variance-based GSA*: Analysis of model output variance can determine how sensitive it is to its input variables (e.g. Sobol SA, Analysis of Variance (ANOVA))\n",
    "   * *[Moment-independent GSA](https://waterprogramming.wordpress.com/2020/05/18/information-theory-and-moment-independent-sensitivity-indices/)*: Compares entire unconditional and conditional probability distributions of input variables and model output values to determine model sensitivity to an input variable (e.g. Delta Moment-Independent SA, Pianosi and Wagener method (PAWN))\n",
    "\n",
    "More information on sensitivity analysis and why we perform it can be found [here](https://uc-ebook.org/docs/html/3_sensitivity_analysis_the_basics.html)."
   ]
  },
  {
   "cell_type": "markdown",
   "id": "ae276192",
   "metadata": {},
   "source": [
    "## Import the key libraries\n",
    "Let's begin by importing some key libraries. Some might look familiar, with the exception of SALib. SALib is a Python library that contains commonly-used sensitivity analysis method and useful uncertainty sampling functions. You can install the library [here](https://github.com/SALib/SALib) by cloning the Git repository, or by entering `pip install SALib` into your command line."
   ]
  },
  {
   "cell_type": "code",
   "execution_count": 4,
   "id": "f27ab302",
   "metadata": {},
   "outputs": [],
   "source": [
    "# import function to generate uncertainty samples within a specified range using the Saltelli sampling scheme\n",
    "from SALib.sample import saltelli   \n",
    "# import function to perform different types of sensitivity analysis\n",
    "from SALib.analyze import sobol\n",
    "from SALib.analyze import delta\n",
    "# import all other libraries\n",
    "import numpy as np\n",
    "import pandas as pd\n",
    "import matplotlib.pyplot as plt"
   ]
  },
  {
   "cell_type": "markdown",
   "id": "867935a8",
   "metadata": {},
   "source": [
    "## One-at-a-Time Sensitivity Analysis\n",
    "Problem description here"
   ]
  },
  {
   "cell_type": "code",
   "execution_count": null,
   "id": "726d4c2a",
   "metadata": {},
   "outputs": [],
   "source": [
    "### code for OAT"
   ]
  },
  {
   "cell_type": "markdown",
   "id": "d8bbffab",
   "metadata": {},
   "source": [
    "## Sobol Sensivity Analysis here\n",
    "Include default exercise as well as TBW-related exercise"
   ]
  },
  {
   "cell_type": "code",
   "execution_count": null,
   "id": "7982f846",
   "metadata": {},
   "outputs": [],
   "source": [
    "### code for Sobol"
   ]
  },
  {
   "cell_type": "markdown",
   "id": "6717993b",
   "metadata": {},
   "source": [
    "## Delta Moment-Independent Sensitivity Analysis\n",
    "Problem description here"
   ]
  },
  {
   "cell_type": "code",
   "execution_count": 5,
   "id": "904e11db",
   "metadata": {},
   "outputs": [],
   "source": [
    "def find_bounds(input_file):\n",
    "    \"\"\"\n",
    "    Finds the founds of the decision variables or DU factor multipliers.\n",
    "    Parameters\n",
    "    ----------\n",
    "    input_file : numpy matrix\n",
    "        A numpy matrix that specifies the lower and upper bounds of each decision\n",
    "        variable or DU factor multiplier.\n",
    "    Returns\n",
    "    -------\n",
    "    bounds : tuple\n",
    "        The lower and upper bound of a decision variable or DU factor multiplier.\n",
    "    \"\"\"\n",
    "    bounds = np.zeros((input_file.shape[1],2), dtype=float)\n",
    "    for i in range(input_file.shape[1]):\n",
    "        bounds[i,0] = min(input_file[:,i])\n",
    "        bounds[i,1] = max(input_file[:,i])\n",
    "\n",
    "    return "
   ]
  },
  {
   "cell_type": "code",
   "execution_count": 6,
   "id": "89e1ab4c",
   "metadata": {},
   "outputs": [],
   "source": [
    "def delta_sensitivity(dv_du, measured_outcomes, names, mo_names, bounds, compSol_full, rob_objs):\n",
    "    \"\"\"\n",
    "    Main function that performs Delta moment-independent sensitivity analysis\n",
    "    Writes a csv file to a subfolder named 'delta_[rob_objs]_[mode]/S1_[util]_[compSol].csv'\n",
    "    \n",
    "    Parameters\n",
    "    ----------\n",
    "    dv_du : numpy matrix\n",
    "        Contains the float values of the decision variables of each perturbed instance\n",
    "        of a given compromise solution OR the DU factor multipliers.\n",
    "    measured_outcomes : numpy matrix\n",
    "        Contains the float values of either the performance objectives or robustness \n",
    "        values, depending on the mode.\n",
    "    names : list of strings\n",
    "        Names of all relevant decision variables or DU factor multipliers.\n",
    "    mo_names : list of strings\n",
    "        Names of all relevant performance objectives or utilities (for robustness).\n",
    "    bounds : numpy matrix\n",
    "        An (len(dv_du) x 2) matrix of the lower and upper bounds of the decision variables\n",
    "        or DU factor multipliers.\n",
    "    compSol_full : string\n",
    "        Longer abbreviation of the compromise solution name\n",
    "        Social planner: LS98\n",
    "        Pragmatist: PW113\n",
    "    rob_objs : string\n",
    "        Subfolder label indicating if this is sensitivity of robustness or objectives.\n",
    "    Returns\n",
    "    -------\n",
    "    None.\n",
    "    \"\"\"\n",
    "    X = dv_du\n",
    "    Y = measured_outcomes\n",
    "\n",
    "    problem = {\n",
    "        'num_vars': int(dv_du.shape[1]),\n",
    "        'names': names,\n",
    "        'bounds': bounds\n",
    "    }\n",
    "    print('compSol: ', compSol_full)\n",
    "    for i in range(measured_outcomes.shape[1]):\n",
    "        \n",
    "        \n",
    "        mo_label = mo_names[i]\n",
    "        print('obj: ', mo_label)\n",
    "        \n",
    "        filename = 'delta_output/delta_' + rob_objs + '_' + mode + '/S1_' + mo_label + '_' + compSol_full + '.csv'\n",
    "        \n",
    "        #filename = 'delta_output/delta_base_rdm/S1_' + mo_label + '_' + compSol_full + '.csv'\n",
    "        S1 = delta.analyze(problem, X, Y[mo_label].values, num_resamples=10, conf_level=0.95, print_to_console=False)\n",
    "        numpy_S1 = np.array(S1[\"S1\"])\n",
    "        fileout = pd.DataFrame([names, numpy_S1], index = None, columns = None)\n",
    "        fileout.to_csv(filename, sep=\",\")"
   ]
  },
  {
   "cell_type": "code",
   "execution_count": null,
   "id": "0f1cf100",
   "metadata": {},
   "outputs": [],
   "source": []
  }
 ],
 "metadata": {
  "kernelspec": {
   "display_name": "Python 3",
   "language": "python",
   "name": "python3"
  },
  "language_info": {
   "codemirror_mode": {
    "name": "ipython",
    "version": 3
   },
   "file_extension": ".py",
   "mimetype": "text/x-python",
   "name": "python",
   "nbconvert_exporter": "python",
   "pygments_lexer": "ipython3",
   "version": "3.9.12"
  }
 },
 "nbformat": 4,
 "nbformat_minor": 5
}
