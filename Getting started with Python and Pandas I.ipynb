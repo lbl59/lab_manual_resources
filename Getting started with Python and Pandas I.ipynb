{
 "cells": [
  {
   "attachments": {},
   "cell_type": "markdown",
   "metadata": {
    "datalore": {
     "hide_input_from_viewers": false,
     "hide_output_from_viewers": false,
     "node_id": "1. Introduction",
     "sheet_delimiter": true,
     "type": "MD"
    }
   },
   "source": [
    "# 1. Introduction"
   ]
  },
  {
   "attachments": {},
   "cell_type": "markdown",
   "metadata": {
    "datalore": {
     "hide_input_from_viewers": true,
     "hide_output_from_viewers": true,
     "node_id": "HzY6Ir4zsvGfMS6lAVBiZO",
     "type": "MD"
    }
   },
   "source": [
    "# Using Jupyter Notebooks\n",
    "Jupyter is an online computational notebook that enables modular coding in Python, R, and Julia (among others). There are four important actions you will be using throughout the course via Jupter:\n",
    "\n",
    "## Creating code blocks\n",
    "You can create code blocks in four ways:\n",
    "1. Press `Ctrl+Alt+Enter` on your keyboard\n",
    "2. Click on the 'Insert code cell' that appears at the bottom of your current cell\n",
    "3. Click on the 'Add code cell' that appears at the bottom of your notebook page\n",
    "4. Click on the plus `+` symbol that appears at the top-right of your current cell\n",
    "\n",
    "You can move these blocks further up or down by clicking on the three horizontal dots (the menu) that appear on the top-right of your current cell and selecting either 'Move cell up' (`Ctrl+Shift+$\\uparrow$`) or 'Move cell down' (`Ctrl+Shift+$\\downarrow$`)."
   ]
  },
  {
   "attachments": {},
   "cell_type": "markdown",
   "metadata": {
    "datalore": {
     "hide_input_from_viewers": true,
     "hide_output_from_viewers": true,
     "node_id": "jLctOtXnfIFGNByeU9qdef",
     "type": "MD"
    }
   },
   "source": [
    "## Running code blocks\n",
    "Once you have written some code in a block, you can run the code in one of three ways:\n",
    "1. Click on the 'Play' icon that appears on the top-left of your current cell\n",
    "2. Click on the menu at the top-right of your current cell and select 'Run cell'\n",
    "3. Press 'Shift+Enter' on your keyboard. \n",
    "\n",
    "You also have the option of running all the code that you have written prior to or after your current cell by clicking on the three horizontal dots and selecting either 'Run all above' or 'Run selected cell and all below'. Using notebook environments like Datalore is nice as all variables that have been defined do not have to be redefined in subsequent codeblocks (unless, of course, you would like to change their values)."
   ]
  },
  {
   "cell_type": "code",
   "execution_count": 5,
   "metadata": {
    "datalore": {
     "hide_input_from_viewers": true,
     "hide_output_from_viewers": true,
     "node_id": "rRZKh3wSlVXNLNNqljqF6M",
     "type": "CODE"
    },
    "vscode": {
     "languageId": "python"
    }
   },
   "outputs": [],
   "source": [
    "x = 2\n",
    "y = 9.9\n",
    "x**y;"
   ]
  },
  {
   "attachments": {},
   "cell_type": "markdown",
   "metadata": {
    "datalore": {
     "hide_input_from_viewers": true,
     "hide_output_from_viewers": true,
     "node_id": "7E5OSxaynVlCIaYByyVUhS",
     "type": "MD"
    }
   },
   "source": [
    "## Using libraries\n",
    "A Python library is a \"bundle\" of useful functions, usually used for the same general purpose (plotting figures, performing statistical analysis, scraping data from the web, etc.). In DataLore, you can use a library by importing it into your code block using the `import python_lib as p_lib` syntax. Once a library is imported, you can use it in your current code block and all following code blocks. \n",
    "\n",
    "Here, we are using the `numpy` library for scientific computations. Note that we are *not* changing the values of $x$ and $y$."
   ]
  },
  {
   "cell_type": "code",
   "execution_count": 7,
   "metadata": {
    "datalore": {
     "hide_input_from_viewers": true,
     "hide_output_from_viewers": true,
     "node_id": "6E96cFfTsQrHJJIMJJLtjU",
     "type": "CODE"
    },
    "vscode": {
     "languageId": "python"
    }
   },
   "outputs": [],
   "source": [
    "import numpy as np\n",
    "x = 3.2\n",
    "y = 5\n",
    "np.power(x,y);"
   ]
  },
  {
   "attachments": {},
   "cell_type": "markdown",
   "metadata": {
    "datalore": {
     "hide_input_from_viewers": true,
     "hide_output_from_viewers": true,
     "node_id": "ojeGKUe4cTStBS1qzA0ixG",
     "type": "MD"
    }
   },
   "source": [
    "## Creating and using markdown cells\n",
    "Creating markdown cells is a useful method of organizing your code into readable blocks. In DataLore, you can create a markdown cell in one of three ways:\n",
    "1. Create a new code cell and press `Ctrl+M`\n",
    "2. Create a new code cell. On the top-right of the cell, click on the icon in between `+` and the \"trash\" icon. Select the 'Convert to markdown' option\n",
    "3. At the bottom of your current cell, select 'More cell types' and select the 'Markdown' option\n",
    "\n",
    "You can modify markdown text, use numbered or point-form lists, or insert code snippets and equations using the options available on the top-left of the markdown cell. [A handy markdown cheatsheet can be found here](https://www.markdownguide.org/cheat-sheet/).\n",
    "\n",
    "Let's try creating some markdown text!\n",
    "\n",
    "# One hash for section headings \n",
    "## Two hashes for subsection headings \n",
    "### Three for subsubsection headings\n",
    "...and four is too many\n",
    "\n",
    "Here are some other useful markdown functions:\n",
    "* You can use \"* \" or \"- \" to list items\n",
    "* Backticks `your code here` can be used to highlight code\n",
    "* Create bold or italic text by hitting `Ctrl+b` or `Ctrl+i` respectively. Alternatively, you can wrap your text with two asterisks for **bold font**, or one asterisk for *italic font*.\n",
    "* Skip one line to begin a new paragraph\n",
    "* Type as usual for other text. \n",
    "\n",
    "Double-click on this cell to view these functions (and more) in action!"
   ]
  },
  {
   "attachments": {},
   "cell_type": "markdown",
   "metadata": {
    "datalore": {
     "hide_input_from_viewers": true,
     "hide_output_from_viewers": true,
     "node_id": "nr4W61bTs7s6KcfDedPrZd",
     "type": "MD"
    }
   },
   "source": [
    "# Introduction to Python\n",
    "Python is zero-indexed programming language used throughout engineering due to its readability and multiple uses. Here are some things that you can achieve using Python:\n",
    "1. Scrape and load data from the web \n",
    "2. Perform basic mathematical computation\n",
    "3. Organize, filter, and analyze complex datasets \n",
    "4. Create interactive charts and other visualizations\n",
    "\n",
    "In this session, we will learn to identify Python data types, how to write basic Python code, use the DataLore web interface, load Python libraries containing useful functions, and use Python's Pandas, and Matplotlib library.\n",
    "\n",
    "# Python Basics\n",
    "## Commenting using Python\n",
    "Commenting your code not only helps you clarify your code, but also makes it more readable to other individuals using it. Leaving brief comments also enables you to explain your code to yourself and prevent mistakes from being made. In Python, comments are indicated using a hash sign `#`.\n",
    "## Printing in Python \n",
    "Printing in Python is a relatively straightforward step you can take to help identify potential errors in your code or to view the output of your computations.\n",
    "## Performing basic computations in Python\n",
    "Python has several in-built functions that allow you to perform mathematical computations via the in-built `math` library. Some functions that you might find useful throughout this course include `math.sqrt()`, `math.exp()`, `math.log()`, `math.sin()`, `math.cos()` and `math.tan()`. The full list of functions in this library can be found at [this link](https://docs.python.org/3/library/math.html)."
   ]
  },
  {
   "attachments": {},
   "cell_type": "markdown",
   "metadata": {
    "datalore": {
     "hide_input_from_viewers": true,
     "hide_output_from_viewers": true,
     "node_id": "S0cYXmsk9bDjB5w0qtZaE1",
     "type": "MD"
    }
   },
   "source": [
    "In this next cell we find the square root of 2 using the `math.sqrt()` function."
   ]
  },
  {
   "cell_type": "code",
   "execution_count": 8,
   "metadata": {
    "datalore": {
     "hide_input_from_viewers": true,
     "hide_output_from_viewers": true,
     "node_id": "9U6XmYhwO924vzuBD45Ddi",
     "type": "CODE"
    },
    "vscode": {
     "languageId": "python"
    }
   },
   "outputs": [
    {
     "data": {
      "text/plain": [
       "1.4142135623730951"
      ]
     },
     "metadata": {},
     "output_type": "display_data"
    }
   ],
   "source": [
    "# Let's perform some basic computations using the math library\n",
    "import math\n",
    "math.sqrt(2)"
   ]
  },
  {
   "attachments": {},
   "cell_type": "markdown",
   "metadata": {
    "datalore": {
     "hide_input_from_viewers": true,
     "hide_output_from_viewers": true,
     "node_id": "KEvx2d9siGitGPMU7MvrTi",
     "type": "MD"
    }
   },
   "source": [
    "We can also suppress the output of the function by using a semicolon \";\" or by assigning the output to a variable (here we use $x$):"
   ]
  },
  {
   "cell_type": "code",
   "execution_count": 9,
   "metadata": {
    "datalore": {
     "hide_input_from_viewers": true,
     "hide_output_from_viewers": true,
     "node_id": "rLNi4RgNvM1lc70KtMHm9e",
     "type": "CODE"
    },
    "vscode": {
     "languageId": "python"
    }
   },
   "outputs": [],
   "source": [
    "math.sqrt(2);"
   ]
  },
  {
   "attachments": {},
   "cell_type": "markdown",
   "metadata": {
    "datalore": {
     "hide_input_from_viewers": true,
     "hide_output_from_viewers": true,
     "node_id": "bc57jsmwU0gvhRzzroSivS",
     "type": "MD"
    }
   },
   "source": [
    "If you would still like to view the value of the square root of 2, you can use the `print()` function. "
   ]
  },
  {
   "cell_type": "code",
   "execution_count": 13,
   "metadata": {
    "datalore": {
     "hide_input_from_viewers": true,
     "hide_output_from_viewers": true,
     "node_id": "O77r5XFcEfj2FGMUX6Ft1Z",
     "type": "CODE"
    },
    "vscode": {
     "languageId": "python"
    }
   },
   "outputs": [
    {
     "name": "stdout",
     "output_type": "stream",
     "text": [
      "Value of x:  1.4142135623730951\n"
     ]
    }
   ],
   "source": [
    "x = math.sqrt(2)\n",
    "print(\"Value of x: \", str(x))"
   ]
  },
  {
   "attachments": {},
   "cell_type": "markdown",
   "metadata": {
    "datalore": {
     "hide_input_from_viewers": true,
     "hide_output_from_viewers": true,
     "node_id": "XaE0g6sIsR9Q4ymZ895Nka",
     "type": "MD"
    }
   },
   "source": [
    "You can format your output using the `format` method alongside the `print()` function:"
   ]
  },
  {
   "cell_type": "code",
   "execution_count": 20,
   "metadata": {
    "datalore": {
     "hide_input_from_viewers": true,
     "hide_output_from_viewers": true,
     "node_id": "zzLu4Oye5gwLiHR67yQVh9",
     "type": "CODE"
    },
    "vscode": {
     "languageId": "python"
    }
   },
   "outputs": [
    {
     "name": "stdout",
     "output_type": "stream",
     "text": [
      "{0} = {1:1.5f} and {2} = {3:2.3f}\n"
     ]
    },
    {
     "ename": "AttributeError",
     "evalue": "AttributeError: 'NoneType' object has no attribute 'format'",
     "output_type": "error",
     "traceback": [
      "\u001b[0;31m---------------------------------------------------------------------------",
      "Traceback (most recent call last)",
      "    at line 1 in <module>",
      "AttributeError: 'NoneType' object has no attribute 'format'"
     ]
    }
   ],
   "source": [
    "print('{0} = {1:1.5f} and {2} = {3:2.3f}').format('y', math.sqrt(2), 'z', 9.3**5)"
   ]
  },
  {
   "attachments": {},
   "cell_type": "markdown",
   "metadata": {
    "datalore": {
     "hide_input_from_viewers": true,
     "hide_output_from_viewers": true,
     "node_id": "KbfVPajal0uPobtrpMyjZj",
     "type": "MD"
    }
   },
   "source": [
    "# Break \n",
    "\n",
    "**Cat Fact**: Did you know the cat is the mammal with the greatest difference between dilated and undilated pupils?\n",
    "\n",
    "Take some time to stand up and stretch, then head over to tab **2. Python Intro I**"
   ]
  },
  {
   "attachments": {},
   "cell_type": "markdown",
   "metadata": {
    "datalore": {
     "hide_input_from_viewers": false,
     "hide_output_from_viewers": false,
     "node_id": "2. Python Intro I",
     "sheet_delimiter": true,
     "type": "MD"
    }
   },
   "source": [
    "# 2. Python Intro I"
   ]
  },
  {
   "attachments": {},
   "cell_type": "markdown",
   "metadata": {
    "datalore": {
     "hide_input_from_viewers": false,
     "hide_output_from_viewers": false,
     "node_id": "bM5D5BA2E5K8kFHKHT4xp9",
     "report_properties": {},
     "type": "MD"
    }
   },
   "source": [
    "# An Introduction to the Python Programming Language I\n",
    "Let's go at top speed over some basics. Press 'Shift+Enter' to execute a cell, or click the top left play button.\n",
    "## Functions\n",
    "A function is a block of reusable code that is only when it is called. It can take any number of input parameters, or none at all. LIkewise, it can return any number of outputs and a combination of data types, or none at all. A Python function *does not* have to return a value. However, when returning more than one output, all outputs will be grouped together in a tuple. \n",
    "\n",
    "The Python function is defined using the `def` keyword. Let's try running a few Python functions to get an idea of how this works."
   ]
  },
  {
   "attachments": {},
   "cell_type": "markdown",
   "metadata": {
    "datalore": {
     "hide_input_from_viewers": false,
     "hide_output_from_viewers": false,
     "node_id": "1ZPKdUULiTS3kuP41sPVxy",
     "report_properties": {},
     "type": "MD"
    }
   },
   "source": [
    "`add_numbers` is a function that takes two numbers and adds them together."
   ]
  },
  {
   "cell_type": "code",
   "execution_count": 21,
   "metadata": {
    "datalore": {
     "hide_input_from_viewers": false,
     "hide_output_from_viewers": false,
     "node_id": "5fbqglwQ6jlzP1VII83QD2",
     "report_properties": {},
     "type": "CODE"
    },
    "vscode": {
     "languageId": "python"
    }
   },
   "outputs": [
    {
     "name": "stdout",
     "output_type": "stream",
     "text": [
      "1.9\n"
     ]
    }
   ],
   "source": [
    "def add_numbers(x, y):\n",
    "    return x + y\n",
    "\n",
    "add_numbers(1, 2)\n",
    "\n",
    "a = 3\n",
    "b = 1.1\n",
    "def minus_numbers():\n",
    "    return a-b\n",
    "c = minus_numbers()\n",
    "print(c)"
   ]
  },
  {
   "attachments": {},
   "cell_type": "markdown",
   "metadata": {
    "datalore": {
     "hide_input_from_viewers": false,
     "hide_output_from_viewers": false,
     "node_id": "5TDNwCfNaBbbqVwUt5J8Wq",
     "report_properties": {},
     "type": "MD"
    }
   },
   "source": [
    "Let's update `add_numbers` to take an optional 3rd parameter. Using `print` allows printing of multiple expressions within a single cell."
   ]
  },
  {
   "cell_type": "code",
   "execution_count": 25,
   "metadata": {
    "datalore": {
     "hide_input_from_viewers": false,
     "hide_output_from_viewers": false,
     "node_id": "WebBSF8k3Z7VdgvzREUxcH",
     "report_properties": {},
     "type": "CODE"
    },
    "vscode": {
     "languageId": "python"
    }
   },
   "outputs": [
    {
     "name": "stdout",
     "output_type": "stream",
     "text": [
      "6\n"
     ]
    }
   ],
   "source": [
    "def add_numbers(x,y,z=None):\n",
    "    if z==None:\n",
    "        return x+y\n",
    "    else:\n",
    "        return x+y+z\n",
    "\n",
    "#print(add_numbers(1, 2))\n",
    "print(add_numbers(1, 2, 3))"
   ]
  },
  {
   "attachments": {},
   "cell_type": "markdown",
   "metadata": {
    "datalore": {
     "hide_input_from_viewers": false,
     "hide_output_from_viewers": false,
     "node_id": "lPzKYFieaQOMoQdBxCgSpF",
     "report_properties": {},
     "type": "MD"
    }
   },
   "source": [
    "Flag parameters are optional parameters that do not require a value assigned to them when the function is called. If a value is assigned to a flag parameter, it will take on the value assigned to it when the function is called. Otherwise, it takes the default parameter value assigned to it when the function was originally defined. Let's update `add_numbers` to take an optional flag parameter."
   ]
  },
  {
   "cell_type": "code",
   "execution_count": 27,
   "metadata": {
    "datalore": {
     "hide_input_from_viewers": false,
     "hide_output_from_viewers": false,
     "node_id": "0hF2WlyT6Yq8FXVFwBdtgw",
     "report_properties": {},
     "type": "CODE"
    },
    "vscode": {
     "languageId": "python"
    }
   },
   "outputs": [
    {
     "name": "stdout",
     "output_type": "stream",
     "text": [
      "3\n"
     ]
    }
   ],
   "source": [
    "def add_numbers(x, y, z=None, flag=False):\n",
    "    if (flag==False):\n",
    "        print('Flag is false!')\n",
    "    if (z==None):\n",
    "        return x + y\n",
    "    else:\n",
    "        return x + y + z\n",
    "    \n",
    "print(add_numbers(1, 2, flag=True))"
   ]
  },
  {
   "attachments": {},
   "cell_type": "markdown",
   "metadata": {
    "datalore": {
     "hide_input_from_viewers": false,
     "hide_output_from_viewers": false,
     "node_id": "wXIALPVa70VOll2LKlmpWx",
     "report_properties": {},
     "type": "MD"
    }
   },
   "source": [
    "We can also assign function outputs to variables. Let's assign the output of the function `add_numbers` to variable `a`."
   ]
  },
  {
   "cell_type": "code",
   "execution_count": 29,
   "metadata": {
    "datalore": {
     "hide_input_from_viewers": false,
     "hide_output_from_viewers": false,
     "node_id": "2EJlUIDjuH70krfnOqjbhF",
     "report_properties": {},
     "type": "CODE"
    },
    "vscode": {
     "languageId": "python"
    }
   },
   "outputs": [
    {
     "data": {
      "text/plain": [
       "4.4"
      ]
     },
     "metadata": {},
     "output_type": "display_data"
    }
   ],
   "source": [
    "def add_numbers(x,y):\n",
    "    return x+y\n",
    "\n",
    "a = add_numbers\n",
    "a(2,2.4)"
   ]
  },
  {
   "attachments": {},
   "cell_type": "markdown",
   "metadata": {
    "datalore": {
     "hide_input_from_viewers": false,
     "hide_output_from_viewers": false,
     "node_id": "pItUrNe9pmhuo6rCLLi3xF",
     "report_properties": {},
     "type": "MD"
    }
   },
   "source": [
    "## Data types\n",
    "Let's quickly review several key data types in Python. You can identify the data type of a value using the `type()` function."
   ]
  },
  {
   "attachments": {},
   "cell_type": "markdown",
   "metadata": {
    "datalore": {
     "hide_input_from_viewers": true,
     "hide_output_from_viewers": true,
     "node_id": "UgwZECzUBSanEDzQBYXw7p",
     "type": "MD"
    }
   },
   "source": [
    "### Integers\n",
    "The `int` data type are integers, or whole numbers without decimals."
   ]
  },
  {
   "cell_type": "code",
   "execution_count": null,
   "metadata": {
    "datalore": {
     "hide_input_from_viewers": false,
     "hide_output_from_viewers": false,
     "node_id": "MaLpCexMk3B9lKfLb9Lj9C",
     "report_properties": {},
     "type": "CODE"
    },
    "vscode": {
     "languageId": "python"
    }
   },
   "outputs": [
    {
     "data": {
      "text/plain": [
       "int"
      ]
     },
     "metadata": {},
     "output_type": "display_data"
    }
   ],
   "source": [
    "# integers\n",
    "type(1)"
   ]
  },
  {
   "attachments": {},
   "cell_type": "markdown",
   "metadata": {
    "datalore": {
     "hide_input_from_viewers": true,
     "hide_output_from_viewers": true,
     "node_id": "O7CgaaVLw8Ffq42Dr5lAEB",
     "type": "MD"
    }
   },
   "source": [
    "### Floats\n",
    "The `float` data type is a number containing one or more decimals."
   ]
  },
  {
   "cell_type": "code",
   "execution_count": null,
   "metadata": {
    "datalore": {
     "hide_input_from_viewers": false,
     "hide_output_from_viewers": false,
     "node_id": "PIw6LCSgCXmbYpQqKuwohK",
     "report_properties": {},
     "type": "CODE"
    },
    "vscode": {
     "languageId": "python"
    }
   },
   "outputs": [
    {
     "data": {
      "text/plain": [
       "float"
      ]
     },
     "metadata": {},
     "output_type": "display_data"
    }
   ],
   "source": [
    "# float\n",
    "type(1.0)"
   ]
  },
  {
   "attachments": {},
   "cell_type": "markdown",
   "metadata": {
    "datalore": {
     "hide_input_from_viewers": true,
     "hide_output_from_viewers": true,
     "node_id": "qifkrm1sWnOQhZfkQYGLDV",
     "type": "MD"
    }
   },
   "source": [
    "### Lists\n",
    "The `list` data structure is used to store multiple items of the same data type. Lists are mutable (can be altered)."
   ]
  },
  {
   "cell_type": "code",
   "execution_count": 30,
   "metadata": {
    "datalore": {
     "hide_input_from_viewers": false,
     "hide_output_from_viewers": false,
     "node_id": "PEcC7fRgVLywvAVM8wF0Bs",
     "report_properties": {},
     "type": "CODE"
    },
    "vscode": {
     "languageId": "python"
    }
   },
   "outputs": [
    {
     "data": {
      "text/plain": [
       "list"
      ]
     },
     "metadata": {},
     "output_type": "display_data"
    }
   ],
   "source": [
    "x = [1, 'a', 2, 'b', 6.33]\n",
    "type(x)"
   ]
  },
  {
   "cell_type": "code",
   "execution_count": 32,
   "metadata": {
    "datalore": {
     "hide_input_from_viewers": true,
     "hide_output_from_viewers": true,
     "node_id": "1h0b2zAR6mUbfs7qoQXlSm",
     "type": "CODE"
    },
    "vscode": {
     "languageId": "python"
    }
   },
   "outputs": [
    {
     "data": {
      "text/plain": [
       "str"
      ]
     },
     "metadata": {},
     "output_type": "display_data"
    }
   ],
   "source": [
    "b = 'integer'\n",
    "type(b)"
   ]
  },
  {
   "attachments": {},
   "cell_type": "markdown",
   "metadata": {
    "datalore": {
     "hide_input_from_viewers": false,
     "hide_output_from_viewers": false,
     "node_id": "lh9vpoeuNHcOOte4ektTx4",
     "report_properties": {},
     "type": "MD"
    }
   },
   "source": [
    "Use `append` to append an object to a list."
   ]
  },
  {
   "cell_type": "code",
   "execution_count": 31,
   "metadata": {
    "datalore": {
     "hide_input_from_viewers": false,
     "hide_output_from_viewers": false,
     "node_id": "wdnKyObXjzQ7TV15I7M6q6",
     "report_properties": {},
     "type": "CODE"
    },
    "vscode": {
     "languageId": "python"
    }
   },
   "outputs": [
    {
     "name": "stdout",
     "output_type": "stream",
     "text": [
      "[1, 'a', 2, 'b', 6.33, 3.3]\n"
     ]
    }
   ],
   "source": [
    "x.append(3.3)\n",
    "print(x)"
   ]
  },
  {
   "attachments": {},
   "cell_type": "markdown",
   "metadata": {
    "datalore": {
     "hide_input_from_viewers": false,
     "hide_output_from_viewers": false,
     "node_id": "K6DIHLlPsH1wXyiWpugcm4",
     "report_properties": {},
     "type": "MD"
    }
   },
   "source": [
    "Here is an example of how to loop through each item in the list."
   ]
  },
  {
   "cell_type": "code",
   "execution_count": 33,
   "metadata": {
    "datalore": {
     "hide_input_from_viewers": false,
     "hide_output_from_viewers": false,
     "node_id": "TUKqgzyvBYEZtRL0uLfhQe",
     "report_properties": {},
     "type": "CODE"
    },
    "vscode": {
     "languageId": "python"
    }
   },
   "outputs": [
    {
     "name": "stdout",
     "output_type": "stream",
     "text": [
      "1\n",
      "a\n",
      "2\n",
      "b\n",
      "6.33\n",
      "3.3\n"
     ]
    }
   ],
   "source": [
    "for item in x:\n",
    "    print(item)"
   ]
  },
  {
   "cell_type": "code",
   "execution_count": 34,
   "metadata": {
    "datalore": {
     "hide_input_from_viewers": true,
     "hide_output_from_viewers": true,
     "node_id": "4OS5hKdVx7Y8SQGD00oEMW",
     "type": "CODE"
    },
    "vscode": {
     "languageId": "python"
    }
   },
   "outputs": [
    {
     "data": {
      "text/plain": [
       "6"
      ]
     },
     "metadata": {},
     "output_type": "display_data"
    }
   ],
   "source": [
    "len(x)"
   ]
  },
  {
   "attachments": {},
   "cell_type": "markdown",
   "metadata": {
    "datalore": {
     "hide_input_from_viewers": false,
     "hide_output_from_viewers": false,
     "node_id": "xz4I14gxD9FcfeKxrwSsSE",
     "report_properties": {},
     "type": "MD"
    }
   },
   "source": [
    "Or using the indexing operator:"
   ]
  },
  {
   "cell_type": "code",
   "execution_count": 35,
   "metadata": {
    "datalore": {
     "hide_input_from_viewers": false,
     "hide_output_from_viewers": false,
     "node_id": "G3waW5EkZLJ3oa3WeuLBLP",
     "report_properties": {},
     "type": "CODE"
    },
    "vscode": {
     "languageId": "python"
    }
   },
   "outputs": [
    {
     "name": "stdout",
     "output_type": "stream",
     "text": [
      "0\n",
      "1\n",
      "1\n",
      "a\n",
      "2\n",
      "2\n",
      "3\n",
      "b\n",
      "4\n",
      "6.33\n",
      "5\n",
      "3.3\n"
     ]
    }
   ],
   "source": [
    "i=0\n",
    "while i != len(x):\n",
    "    print(i)\n",
    "    print(x[i])   # print the i-th element of list x\n",
    "    i = i + 1   # add one to i"
   ]
  },
  {
   "attachments": {},
   "cell_type": "markdown",
   "metadata": {
    "datalore": {
     "hide_input_from_viewers": true,
     "hide_output_from_viewers": true,
     "node_id": "rzVOoQaAzPDJBKUxS36D5M",
     "type": "MD"
    }
   },
   "source": [
    "Now try re-writing the while loop above as a for loop!"
   ]
  },
  {
   "cell_type": "code",
   "execution_count": 39,
   "metadata": {
    "datalore": {
     "hide_input_from_viewers": true,
     "hide_output_from_viewers": true,
     "node_id": "0fXF15gc9oPFZQYfilrBx1",
     "type": "CODE"
    },
    "vscode": {
     "languageId": "python"
    }
   },
   "outputs": [
    {
     "name": "stdout",
     "output_type": "stream",
     "text": [
      "current element:  1\n",
      "current element:  a\n",
      "current element:  2\n",
      "current element:  b\n",
      "current element:  6.33\n",
      "current element:  3.3\n"
     ]
    }
   ],
   "source": [
    "# write for loop here\n",
    "# for loops in Python are not inclusive at the second parameter\n",
    "for i in range(0,len(x)):\n",
    "    print(\"current element: \", str(x[i]))"
   ]
  },
  {
   "attachments": {},
   "cell_type": "markdown",
   "metadata": {
    "datalore": {
     "hide_input_from_viewers": false,
     "hide_output_from_viewers": false,
     "node_id": "zjcg7bidULIctueP7kz2eH",
     "report_properties": {},
     "type": "MD"
    }
   },
   "source": [
    "You can also use the `+` operator to concatenate lists."
   ]
  },
  {
   "cell_type": "code",
   "execution_count": null,
   "metadata": {
    "datalore": {
     "hide_input_from_viewers": false,
     "hide_output_from_viewers": false,
     "node_id": "RanQWIqAIpxbEv3SRhJUuJ",
     "report_properties": {},
     "type": "CODE"
    },
    "vscode": {
     "languageId": "python"
    }
   },
   "outputs": [
    {
     "data": {
      "text/plain": [
       "[1, 2, 3, 4]"
      ]
     },
     "metadata": {},
     "output_type": "display_data"
    }
   ],
   "source": [
    "[1,2] + [3,4]"
   ]
  },
  {
   "attachments": {},
   "cell_type": "markdown",
   "metadata": {
    "datalore": {
     "hide_input_from_viewers": false,
     "hide_output_from_viewers": false,
     "node_id": "4PEtVGX1ysXkUUx1daTkvj",
     "report_properties": {},
     "type": "MD"
    }
   },
   "source": [
    "You can use `*` to repeat lists."
   ]
  },
  {
   "cell_type": "code",
   "execution_count": 40,
   "metadata": {
    "datalore": {
     "hide_input_from_viewers": false,
     "hide_output_from_viewers": false,
     "node_id": "KAgNCtnZ4pGRZnFqSLkEYO",
     "report_properties": {},
     "type": "CODE"
    },
    "vscode": {
     "languageId": "python"
    }
   },
   "outputs": [
    {
     "data": {
      "text/plain": [
       "[1, 'a', 'c', 1, 'a', 'c', 1, 'a', 'c']"
      ]
     },
     "metadata": {},
     "output_type": "display_data"
    }
   ],
   "source": [
    "[1,\"a\",\"c\"]*3"
   ]
  },
  {
   "attachments": {},
   "cell_type": "markdown",
   "metadata": {
    "datalore": {
     "hide_input_from_viewers": false,
     "hide_output_from_viewers": false,
     "node_id": "ucYy5CZig5ih2rRaOHA3Tz",
     "report_properties": {},
     "type": "MD"
    }
   },
   "source": [
    "Use the `in` operator to check if something is inside a list. This operator returns a boolean value (true or false)."
   ]
  },
  {
   "cell_type": "code",
   "execution_count": 42,
   "metadata": {
    "datalore": {
     "hide_input_from_viewers": false,
     "hide_output_from_viewers": false,
     "node_id": "UJ6O4cWlxr6pZkaFea7Ekj",
     "report_properties": {},
     "type": "CODE"
    },
    "vscode": {
     "languageId": "python"
    }
   },
   "outputs": [
    {
     "data": {
      "text/plain": [
       "False"
      ]
     },
     "metadata": {},
     "output_type": "display_data"
    }
   ],
   "source": [
    "5 in x"
   ]
  },
  {
   "attachments": {},
   "cell_type": "markdown",
   "metadata": {
    "datalore": {
     "hide_input_from_viewers": true,
     "hide_output_from_viewers": true,
     "node_id": "9MC6LG2xKfBZLYzxr1G8pf",
     "type": "MD"
    }
   },
   "source": [
    "Let's iterate from 0 to 999 and return the even numbers in a list."
   ]
  },
  {
   "cell_type": "code",
   "execution_count": null,
   "metadata": {
    "datalore": {
     "hide_input_from_viewers": true,
     "hide_output_from_viewers": true,
     "node_id": "9nXqeMDcki4etMXlw38vdd",
     "type": "CODE"
    },
    "vscode": {
     "languageId": "python"
    }
   },
   "outputs": [],
   "source": [
    "my_list = []\n",
    "for number in range(0, 1000):\n",
    "    if number % 2 == 0:\n",
    "        my_list.append(number)\n",
    "my_list"
   ]
  },
  {
   "attachments": {},
   "cell_type": "markdown",
   "metadata": {
    "datalore": {
     "hide_input_from_viewers": false,
     "hide_output_from_viewers": false,
     "node_id": "FobNfzl6J1g60QXuLe2g3D",
     "report_properties": {},
     "type": "MD"
    }
   },
   "source": [
    "### Strings\n",
    "Now let's look at strings. The `string` data type is associated with words. In Python, a string is stored as a list of characters. Use bracket notation to slice a string."
   ]
  },
  {
   "cell_type": "code",
   "execution_count": 47,
   "metadata": {
    "datalore": {
     "hide_input_from_viewers": false,
     "hide_output_from_viewers": false,
     "node_id": "SJQCfCkqRBiOe5b9l1rPJR",
     "report_properties": {},
     "type": "CODE"
    },
    "vscode": {
     "languageId": "python"
    }
   },
   "outputs": [
    {
     "name": "stdout",
     "output_type": "stream",
     "text": [
      "T\n",
      "T\n",
      "Th\n"
     ]
    }
   ],
   "source": [
    "# strings\n",
    "type('This is a string in Python')\n",
    "\n",
    "x = 'This is a string in Python'\n",
    "print(x[0]) #first character\n",
    "print(x[0:1]) #first character, but we have explicitly set the end character\n",
    "print(x[0:2]) #first two characters"
   ]
  },
  {
   "attachments": {},
   "cell_type": "markdown",
   "metadata": {
    "datalore": {
     "hide_input_from_viewers": false,
     "hide_output_from_viewers": false,
     "node_id": "KXNx3yJ0p4AjBNU3XZeHtk",
     "report_properties": {},
     "type": "MD"
    }
   },
   "source": [
    "You can use this method to return the last element of the string."
   ]
  },
  {
   "cell_type": "code",
   "execution_count": 48,
   "metadata": {
    "datalore": {
     "hide_input_from_viewers": false,
     "hide_output_from_viewers": false,
     "node_id": "FYi5E1yRcHgavKSR3VzOXD",
     "report_properties": {},
     "type": "CODE"
    },
    "vscode": {
     "languageId": "python"
    }
   },
   "outputs": [
    {
     "data": {
      "text/plain": [
       "'n'"
      ]
     },
     "metadata": {},
     "output_type": "display_data"
    }
   ],
   "source": [
    "x[-1]"
   ]
  },
  {
   "attachments": {},
   "cell_type": "markdown",
   "metadata": {
    "datalore": {
     "hide_input_from_viewers": false,
     "hide_output_from_viewers": false,
     "node_id": "JFrQiJpzf1nbRzlU1703qz",
     "report_properties": {},
     "type": "MD"
    }
   },
   "source": [
    "You can also select unique orders of string elements using slicing. This slicing method will return the slice starting from the 4th element from the end and stopping before the 2nd element from the end."
   ]
  },
  {
   "cell_type": "code",
   "execution_count": 49,
   "metadata": {
    "datalore": {
     "hide_input_from_viewers": false,
     "hide_output_from_viewers": false,
     "node_id": "UZNrgkzxtIpaMZxvi3dkRe",
     "report_properties": {},
     "type": "CODE"
    },
    "vscode": {
     "languageId": "python"
    }
   },
   "outputs": [
    {
     "data": {
      "text/plain": [
       "'th'"
      ]
     },
     "metadata": {},
     "output_type": "display_data"
    }
   ],
   "source": [
    "x[-4:-2]"
   ]
  },
  {
   "attachments": {},
   "cell_type": "markdown",
   "metadata": {
    "datalore": {
     "hide_input_from_viewers": false,
     "hide_output_from_viewers": false,
     "node_id": "POz808GRFK9NIvt30L30W7",
     "report_properties": {},
     "type": "MD"
    }
   },
   "source": [
    "<br>\n",
    "This is a slice from the beginning of the string and stopping before the 3rd element."
   ]
  },
  {
   "cell_type": "code",
   "execution_count": 51,
   "metadata": {
    "datalore": {
     "hide_input_from_viewers": false,
     "hide_output_from_viewers": false,
     "node_id": "kBeq8pZG2bhxKfIBlwPkAJ",
     "report_properties": {},
     "type": "CODE"
    },
    "vscode": {
     "languageId": "python"
    }
   },
   "outputs": [
    {
     "data": {
      "text/plain": [
       "'s is a string in Python'"
      ]
     },
     "metadata": {},
     "output_type": "display_data"
    }
   ],
   "source": [
    "x[3:]"
   ]
  },
  {
   "attachments": {},
   "cell_type": "markdown",
   "metadata": {
    "datalore": {
     "hide_input_from_viewers": false,
     "hide_output_from_viewers": false,
     "node_id": "iAvKNf37o7Rx9i9bJJq8OG",
     "report_properties": {},
     "type": "MD"
    }
   },
   "source": [
    "<br>\n",
    "And this is a slice starting from the 4th element of the string and going all the way to the end."
   ]
  },
  {
   "cell_type": "code",
   "execution_count": null,
   "metadata": {
    "datalore": {
     "hide_input_from_viewers": false,
     "hide_output_from_viewers": false,
     "node_id": "nK3wc1o0lLaLROwMVtb9FM",
     "report_properties": {},
     "type": "CODE"
    },
    "vscode": {
     "languageId": "python"
    }
   },
   "outputs": [
    {
     "data": {
      "text/plain": [
       "'s is a string'"
      ]
     },
     "metadata": {},
     "output_type": "display_data"
    }
   ],
   "source": [
    "x[3:]"
   ]
  },
  {
   "attachments": {},
   "cell_type": "markdown",
   "metadata": {
    "datalore": {
     "hide_input_from_viewers": true,
     "hide_output_from_viewers": true,
     "node_id": "NkGAD6VboNQGjTQwlIZEsI",
     "type": "MD"
    }
   },
   "source": [
    "You can also reverse the order of the string. This syntax is applicable for any list or array."
   ]
  },
  {
   "cell_type": "code",
   "execution_count": 52,
   "metadata": {
    "datalore": {
     "hide_input_from_viewers": true,
     "hide_output_from_viewers": true,
     "node_id": "TVnmbAbGZSUhWAeUPIitYJ",
     "type": "CODE"
    },
    "vscode": {
     "languageId": "python"
    }
   },
   "outputs": [
    {
     "data": {
      "text/plain": [
       "'nohtyP ni gnirts a si sihT'"
      ]
     },
     "metadata": {},
     "output_type": "display_data"
    }
   ],
   "source": [
    "x[::-1]"
   ]
  },
  {
   "attachments": {},
   "cell_type": "markdown",
   "metadata": {
    "datalore": {
     "hide_input_from_viewers": true,
     "hide_output_from_viewers": true,
     "node_id": "ZSoxaRnxHLSYl9b9pAjhQI",
     "type": "MD"
    }
   },
   "source": [
    "You can also concatenate two (or more) strings with the `+` operator."
   ]
  },
  {
   "cell_type": "code",
   "execution_count": null,
   "metadata": {
    "datalore": {
     "hide_input_from_viewers": false,
     "hide_output_from_viewers": false,
     "node_id": "IaBwxkj9C6TpwfcsA12xAD",
     "report_properties": {},
     "type": "CODE"
    },
    "vscode": {
     "languageId": "python"
    }
   },
   "outputs": [
    {
     "name": "stdout",
     "output_type": "stream",
     "text": [
      "Christopher Brooks\n",
      "ChristopherChristopherChristopher\n",
      "True\n"
     ]
    }
   ],
   "source": [
    "firstname = 'Christopher'\n",
    "lastname = 'Brooks'\n",
    "\n",
    "print(firstname + ' ' + lastname)\n",
    "print(firstname*3)\n",
    "print('Chris' in firstname)"
   ]
  },
  {
   "attachments": {},
   "cell_type": "markdown",
   "metadata": {
    "datalore": {
     "hide_input_from_viewers": false,
     "hide_output_from_viewers": false,
     "node_id": "KIyJB2vsJhfeX4vV6MeeJ9",
     "report_properties": {},
     "type": "MD"
    }
   },
   "source": [
    "Make sure you convert objects to strings before concatenating!"
   ]
  },
  {
   "cell_type": "code",
   "execution_count": 55,
   "metadata": {
    "datalore": {
     "hide_input_from_viewers": false,
     "hide_output_from_viewers": false,
     "node_id": "yfyMIXqaDNJEIJ4sAzxYmz",
     "report_properties": {},
     "type": "CODE"
    },
    "vscode": {
     "languageId": "python"
    }
   },
   "outputs": [
    {
     "name": "stdout",
     "output_type": "stream",
     "text": [
      "Chris 2\n"
     ]
    }
   ],
   "source": [
    "'''\n",
    "# Incorrect\n",
    "str_wrong = 'Chris' + 2\n",
    "print(str_wrong)\n",
    "'''\n",
    "# Correct\n",
    "str_right = 'Chris ' + str(2)\n",
    "print(str_right)"
   ]
  },
  {
   "attachments": {},
   "cell_type": "markdown",
   "metadata": {
    "datalore": {
     "hide_input_from_viewers": false,
     "hide_output_from_viewers": false,
     "node_id": "K6wA2CXU0SsGkaXmR2SMTh",
     "report_properties": {},
     "type": "MD"
    }
   },
   "source": [
    "In contrast, you can split a string using `split`, which returns a list of all the words in a string, or a list split on a specific character."
   ]
  },
  {
   "cell_type": "code",
   "execution_count": 58,
   "metadata": {
    "datalore": {
     "hide_input_from_viewers": false,
     "hide_output_from_viewers": false,
     "node_id": "SrzvE0PtQxtqR9RaMPgGPz",
     "report_properties": {},
     "type": "CODE"
    },
    "vscode": {
     "languageId": "python"
    }
   },
   "outputs": [
    {
     "name": "stdout",
     "output_type": "stream",
     "text": [
      "Hansen\n"
     ]
    }
   ],
   "source": [
    "firstname = 'Christopher Arthur Hansen Brooks'.split(' ')[0] # [0] selects the first element of the list\n",
    "lastname = 'Christopher Arthur Hansen Brooks'.split(' ')[2] # [-1] selects the last element of the list\n",
    "#print(firstname)\n",
    "print(lastname)"
   ]
  },
  {
   "attachments": {},
   "cell_type": "markdown",
   "metadata": {
    "datalore": {
     "hide_input_from_viewers": false,
     "hide_output_from_viewers": false,
     "node_id": "OFI6XCPjxFyjkeaApOOwLv",
     "report_properties": {},
     "type": "MD"
    }
   },
   "source": [
    "Python also has a built-in method for convenient string formatting."
   ]
  },
  {
   "cell_type": "code",
   "execution_count": null,
   "metadata": {
    "datalore": {
     "hide_input_from_viewers": false,
     "hide_output_from_viewers": false,
     "node_id": "OybQKBYJ81G2itBH5zZ5pG",
     "report_properties": {},
     "type": "CODE"
    },
    "vscode": {
     "languageId": "python"
    }
   },
   "outputs": [
    {
     "name": "stdout",
     "output_type": "stream",
     "text": [
      "Chris bought 4 item(s) at a price of 3.24 each for a total of 12.96\n"
     ]
    }
   ],
   "source": [
    "sales_record = {\n",
    "'price': 3.24,\n",
    "'num_items': 4,\n",
    "'person': 'Chris'}\n",
    "\n",
    "sales_statement = '{} bought {} item(s) at a price of {} each for a total of {}'\n",
    "\n",
    "print(sales_statement.format(sales_record['person'],\n",
    "                             sales_record['num_items'],\n",
    "                             sales_record['price'],\n",
    "                             sales_record['num_items']*sales_record['price']))"
   ]
  },
  {
   "attachments": {},
   "cell_type": "markdown",
   "metadata": {
    "datalore": {
     "hide_input_from_viewers": true,
     "hide_output_from_viewers": true,
     "node_id": "GJmVPh89Gltl3Z4vlTFzbI",
     "type": "MD"
    }
   },
   "source": [
    "### Tuples\n",
    "The `tuple` data structure is used to store multiple items in a single variable. Items can the the same or different data types. Tuples are an immutable data structure (cannot be altered)."
   ]
  },
  {
   "cell_type": "code",
   "execution_count": null,
   "metadata": {
    "datalore": {
     "hide_input_from_viewers": false,
     "hide_output_from_viewers": false,
     "node_id": "2tTn10hASedA8PI0uVtEZg",
     "report_properties": {},
     "type": "CODE"
    },
    "vscode": {
     "languageId": "python"
    }
   },
   "outputs": [
    {
     "data": {
      "text/plain": [
       "tuple"
      ]
     },
     "metadata": {},
     "output_type": "display_data"
    }
   ],
   "source": [
    "x = (1, 'a', 2, 'b')\n",
    "type(x)"
   ]
  },
  {
   "attachments": {},
   "cell_type": "markdown",
   "metadata": {
    "datalore": {
     "hide_input_from_viewers": false,
     "hide_output_from_viewers": false,
     "node_id": "5Txnk0DAAvcNHMYrLNag5k",
     "report_properties": {},
     "type": "MD"
    }
   },
   "source": [
    "### Dictionaries\n",
    "`Dictionaries` are data types that associate keys with values."
   ]
  },
  {
   "cell_type": "code",
   "execution_count": 60,
   "metadata": {
    "datalore": {
     "hide_input_from_viewers": false,
     "hide_output_from_viewers": false,
     "node_id": "vY3L3fW9M4vXiiRLUhJ8xG",
     "report_properties": {},
     "type": "CODE"
    },
    "vscode": {
     "languageId": "python"
    }
   },
   "outputs": [
    {
     "data": {
      "text/plain": [
       "'billg@microsoft.com'"
      ]
     },
     "metadata": {},
     "output_type": "display_data"
    }
   ],
   "source": [
    "x = {'Christopher Brooks': 'brooksch@umich.edu', 'Bill Gates': 'billg@microsoft.com'}\n",
    "x['Bill Gates'] # Retrieve a value by using the indexing operator"
   ]
  },
  {
   "cell_type": "code",
   "execution_count": 61,
   "metadata": {
    "datalore": {
     "hide_input_from_viewers": false,
     "hide_output_from_viewers": false,
     "node_id": "0RElCJGXo0C5TLFBJQV9A5",
     "report_properties": {},
     "type": "CODE"
    },
    "vscode": {
     "languageId": "python"
    }
   },
   "outputs": [
    {
     "data": {
      "text/plain": [
       "'kct@cornell.edu'"
      ]
     },
     "metadata": {},
     "output_type": "display_data"
    }
   ],
   "source": [
    "x['Kevyn Collins-Thompson'] = 'kct@cornell.edu'\n",
    "x['Kevyn Collins-Thompson']"
   ]
  },
  {
   "attachments": {},
   "cell_type": "markdown",
   "metadata": {
    "datalore": {
     "hide_input_from_viewers": false,
     "hide_output_from_viewers": false,
     "node_id": "ozP9gkwbW8bFjgZhcsFRdd",
     "report_properties": {},
     "type": "MD"
    }
   },
   "source": [
    "You can iterate over all of the keys in a dictionary:"
   ]
  },
  {
   "cell_type": "code",
   "execution_count": null,
   "metadata": {
    "datalore": {
     "hide_input_from_viewers": false,
     "hide_output_from_viewers": false,
     "node_id": "JedjZgJpDHsYkpTOHDfuPt",
     "report_properties": {},
     "type": "CODE"
    },
    "vscode": {
     "languageId": "python"
    }
   },
   "outputs": [
    {
     "name": "stdout",
     "output_type": "stream",
     "text": [
      "Christopher Brooks\n",
      "Bill Gates\n",
      "Kevyn Collins-Thompson\n"
     ]
    }
   ],
   "source": [
    "# only returns dictionary keys\n",
    "for name in x:\n",
    "    print(name)"
   ]
  },
  {
   "attachments": {},
   "cell_type": "markdown",
   "metadata": {
    "datalore": {
     "hide_input_from_viewers": false,
     "hide_output_from_viewers": false,
     "node_id": "mdSoFznNdVKJA2glpOYFEF",
     "report_properties": {},
     "type": "MD"
    }
   },
   "source": [
    "You can also iterate over all values in a dictionary..."
   ]
  },
  {
   "cell_type": "code",
   "execution_count": null,
   "metadata": {
    "datalore": {
     "hide_input_from_viewers": false,
     "hide_output_from_viewers": false,
     "node_id": "APo7gqw4HUZ9FOtVDIZrcr",
     "report_properties": {},
     "type": "CODE"
    },
    "vscode": {
     "languageId": "python"
    }
   },
   "outputs": [
    {
     "name": "stdout",
     "output_type": "stream",
     "text": [
      "brooksch@umich.edu\n",
      "billg@microsoft.com\n",
      "None\n"
     ]
    }
   ],
   "source": [
    "# returns values assc the keys\n",
    "for email in x.values():\n",
    "    print(email)"
   ]
  },
  {
   "attachments": {},
   "cell_type": "markdown",
   "metadata": {
    "datalore": {
     "hide_input_from_viewers": false,
     "hide_output_from_viewers": false,
     "node_id": "VWWvm0mA7UthOp7iYkzB4Q",
     "report_properties": {},
     "type": "MD"
    }
   },
   "source": [
    "...or over all items in the dictionary."
   ]
  },
  {
   "cell_type": "code",
   "execution_count": 63,
   "metadata": {
    "datalore": {
     "hide_input_from_viewers": false,
     "hide_output_from_viewers": false,
     "node_id": "hZ7IO4bnqWD7iLzbBd1fze",
     "report_properties": {},
     "type": "CODE"
    },
    "vscode": {
     "languageId": "python"
    }
   },
   "outputs": [
    {
     "name": "stdout",
     "output_type": "stream",
     "text": [
      "Christopher Brooks  :  brooksch@umich.edu\n",
      "Bill Gates  :  billg@microsoft.com\n",
      "Kevyn Collins-Thompson  :  kct@cornell.edu\n"
     ]
    }
   ],
   "source": [
    "for name, email in x.items():\n",
    "    print(name, \" : \", email)\n",
    "    #print(email)"
   ]
  },
  {
   "attachments": {},
   "cell_type": "markdown",
   "metadata": {
    "datalore": {
     "hide_input_from_viewers": false,
     "hide_output_from_viewers": false,
     "node_id": "HwiS43D0epMXLih79fr2jh",
     "report_properties": {},
     "type": "MD"
    }
   },
   "source": [
    "### Sequences\n",
    "You can unpack a `sequence` data structure into different variables:"
   ]
  },
  {
   "cell_type": "code",
   "execution_count": null,
   "metadata": {
    "datalore": {
     "hide_input_from_viewers": false,
     "hide_output_from_viewers": false,
     "node_id": "QujQCR8MOaX6Hh7zzp92sH",
     "report_properties": {},
     "type": "CODE"
    },
    "vscode": {
     "languageId": "python"
    }
   },
   "outputs": [],
   "source": [
    "x = ('Christopher', 'Brooks', 'brooksch@umich.edu')\n",
    "fname, lname, email = x"
   ]
  },
  {
   "cell_type": "code",
   "execution_count": null,
   "metadata": {
    "datalore": {
     "hide_input_from_viewers": false,
     "hide_output_from_viewers": false,
     "node_id": "MgJzfJTMqALmdQSO10YXnb",
     "report_properties": {},
     "type": "CODE"
    },
    "vscode": {
     "languageId": "python"
    }
   },
   "outputs": [
    {
     "data": {
      "text/plain": [
       "'Christopher'"
      ]
     },
     "metadata": {},
     "output_type": "display_data"
    }
   ],
   "source": [
    "fname"
   ]
  },
  {
   "cell_type": "code",
   "execution_count": null,
   "metadata": {
    "datalore": {
     "hide_input_from_viewers": false,
     "hide_output_from_viewers": false,
     "node_id": "0MY0GIE94jsMecpm9tM0tE",
     "report_properties": {},
     "type": "CODE"
    },
    "vscode": {
     "languageId": "python"
    }
   },
   "outputs": [
    {
     "data": {
      "text/plain": [
       "'Brooks'"
      ]
     },
     "metadata": {},
     "output_type": "display_data"
    }
   ],
   "source": [
    "lname"
   ]
  },
  {
   "attachments": {},
   "cell_type": "markdown",
   "metadata": {
    "datalore": {
     "hide_input_from_viewers": false,
     "hide_output_from_viewers": false,
     "node_id": "8Ckmez16Rbm4VxLe6ZXayJ",
     "report_properties": {},
     "type": "MD"
    }
   },
   "source": [
    "<br>\n",
    "Make sure the number of values you are unpacking matches the number of variables being assigned."
   ]
  },
  {
   "cell_type": "code",
   "execution_count": null,
   "metadata": {
    "datalore": {
     "hide_input_from_viewers": false,
     "hide_output_from_viewers": false,
     "node_id": "Q45QTuaro8WRXwzZyhEUTh",
     "report_properties": {},
     "type": "CODE"
    },
    "vscode": {
     "languageId": "python"
    }
   },
   "outputs": [
    {
     "ename": "ValueError",
     "evalue": "ValueError: too many values to unpack (expected 3)",
     "output_type": "error",
     "traceback": [
      "\u001b[0;31m---------------------------------------------------------------------------",
      "Traceback (most recent call last)",
      "ValueError: too many values to unpack (expected 3)"
     ]
    }
   ],
   "source": [
    "x = ('Christopher', 'Brooks', 'brooksch@umich.edu', 'Ann Arbor')\n",
    "fname, lname, email = x"
   ]
  },
  {
   "attachments": {},
   "cell_type": "markdown",
   "metadata": {
    "datalore": {
     "hide_input_from_viewers": true,
     "hide_output_from_viewers": true,
     "node_id": "ml1eUztRIJk3Vhb6yWhdrE",
     "type": "MD"
    }
   },
   "source": [
    "### None, NoneTypes and Functions\n",
    "Some other data types that might be useful to know are the `NoneType` and the `function` data types. We have seen the function data type prior to this. The `NoneType` is a Python object that has no value. Do not confuse this with `None`, which is the default return value for a Python function that has no explicit return value."
   ]
  },
  {
   "cell_type": "code",
   "execution_count": 3,
   "metadata": {
    "datalore": {
     "hide_input_from_viewers": false,
     "hide_output_from_viewers": false,
     "node_id": "tOcjnGqdxjdG4Tkd9vTw4W",
     "report_properties": {},
     "type": "CODE"
    },
    "vscode": {
     "languageId": "python"
    }
   },
   "outputs": [
    {
     "data": {
      "text/plain": [
       "NoneType"
      ]
     },
     "metadata": {},
     "output_type": "display_data"
    }
   ],
   "source": [
    "# NoneType\n",
    "type(None)"
   ]
  },
  {
   "cell_type": "code",
   "execution_count": null,
   "metadata": {
    "datalore": {
     "hide_input_from_viewers": false,
     "hide_output_from_viewers": false,
     "node_id": "WjHiYP3JdnzPL9AhhPM20Q",
     "report_properties": {},
     "type": "CODE"
    },
    "vscode": {
     "languageId": "python"
    }
   },
   "outputs": [
    {
     "data": {
      "text/plain": [
       "function"
      ]
     },
     "metadata": {},
     "output_type": "display_data"
    }
   ],
   "source": [
    "type(add_numbers)"
   ]
  },
  {
   "attachments": {},
   "cell_type": "markdown",
   "metadata": {
    "datalore": {
     "hide_input_from_viewers": false,
     "hide_output_from_viewers": false,
     "node_id": "tGJyjpYB3f6L3WeyGvgkPI",
     "report_properties": {},
     "type": "MD"
    }
   },
   "source": [
    "## Dates and Times\n",
    "Python provides an easy and intuitive method to format dates and times using the `time` and `datetime` libraries. The `time` library is primarily used to measure the length of time that a certain number of lines of code or function takes to run. It also provides a quick way of identifying start, end, and current clock times. On the other hand, the `datetime` library allows more detailed formatting of time (years, months, etc.). \n",
    "\n",
    "Let's being by importing these two libraries into our code."
   ]
  },
  {
   "cell_type": "code",
   "execution_count": null,
   "metadata": {
    "datalore": {
     "hide_input_from_viewers": false,
     "hide_output_from_viewers": false,
     "node_id": "Kwtk6jpjaf18HRv56TUuoL",
     "report_properties": {},
     "type": "CODE"
    },
    "vscode": {
     "languageId": "python"
    }
   },
   "outputs": [],
   "source": [
    "import datetime as dt\n",
    "import time as tm"
   ]
  },
  {
   "attachments": {},
   "cell_type": "markdown",
   "metadata": {
    "datalore": {
     "hide_input_from_viewers": false,
     "hide_output_from_viewers": false,
     "node_id": "E0T7ki6VqqlKOymt8HS8pW",
     "report_properties": {},
     "type": "MD"
    }
   },
   "source": [
    "The `time()` function returns the *current* time in seconds since the Epoch."
   ]
  },
  {
   "cell_type": "code",
   "execution_count": null,
   "metadata": {
    "datalore": {
     "hide_input_from_viewers": false,
     "hide_output_from_viewers": false,
     "node_id": "C6DRVEilBDM4hwC5EnYCYO",
     "report_properties": {},
     "type": "CODE"
    },
    "vscode": {
     "languageId": "python"
    }
   },
   "outputs": [],
   "source": [
    "tm.time()"
   ]
  },
  {
   "attachments": {},
   "cell_type": "markdown",
   "metadata": {
    "datalore": {
     "hide_input_from_viewers": false,
     "hide_output_from_viewers": false,
     "node_id": "mZEurIxARjvVOe8JEV5eJJ",
     "report_properties": {},
     "type": "MD"
    }
   },
   "source": [
    "We use the `datetime.fromtimestamp()` function to convert the timestamp to datetime."
   ]
  },
  {
   "cell_type": "code",
   "execution_count": null,
   "metadata": {
    "datalore": {
     "hide_input_from_viewers": false,
     "hide_output_from_viewers": false,
     "node_id": "ekrfuCIoAQi63pSSwaf3id",
     "report_properties": {},
     "type": "CODE"
    },
    "vscode": {
     "languageId": "python"
    }
   },
   "outputs": [],
   "source": [
    "dtnow = dt.datetime.fromtimestamp(tm.time())\n",
    "dtnow"
   ]
  },
  {
   "attachments": {},
   "cell_type": "markdown",
   "metadata": {
    "datalore": {
     "hide_input_from_viewers": false,
     "hide_output_from_viewers": false,
     "node_id": "MPhwaH2bFOcRVOmUx9XMpi",
     "report_properties": {},
     "type": "MD"
    }
   },
   "source": [
    "Here are some other handy `datetime` attributes:"
   ]
  },
  {
   "cell_type": "code",
   "execution_count": null,
   "metadata": {
    "datalore": {
     "hide_input_from_viewers": false,
     "hide_output_from_viewers": false,
     "node_id": "km9KKEI7IaOrkXzPI3xNsB",
     "report_properties": {},
     "type": "CODE"
    },
    "vscode": {
     "languageId": "python"
    }
   },
   "outputs": [],
   "source": [
    "dtnow.year, dtnow.month, dtnow.day, dtnow.hour, dtnow.minute, dtnow.second # get year, month, day, etc.from a datetime"
   ]
  },
  {
   "attachments": {},
   "cell_type": "markdown",
   "metadata": {
    "datalore": {
     "hide_input_from_viewers": false,
     "hide_output_from_viewers": false,
     "node_id": "MkprPSSNN9OCDzqUR209hL",
     "report_properties": {},
     "type": "MD"
    }
   },
   "source": [
    "For example, the `timedelta()` function returns a duration expressing the difference between two dates."
   ]
  },
  {
   "cell_type": "code",
   "execution_count": null,
   "metadata": {
    "datalore": {
     "hide_input_from_viewers": false,
     "hide_output_from_viewers": false,
     "node_id": "HvUXCSylwiGsv1bHXUxEZD",
     "report_properties": {},
     "type": "CODE"
    },
    "vscode": {
     "languageId": "python"
    }
   },
   "outputs": [],
   "source": [
    "delta = dt.timedelta(days = 100) # create a timedelta of 100 days\n",
    "delta"
   ]
  },
  {
   "attachments": {},
   "cell_type": "markdown",
   "metadata": {
    "datalore": {
     "hide_input_from_viewers": false,
     "hide_output_from_viewers": false,
     "node_id": "RZYB2wZ02co9al3vApYyH6",
     "report_properties": {},
     "type": "MD"
    }
   },
   "source": [
    "Next, the `date.today()` function returns the current local date."
   ]
  },
  {
   "cell_type": "code",
   "execution_count": null,
   "metadata": {
    "datalore": {
     "hide_input_from_viewers": false,
     "hide_output_from_viewers": false,
     "node_id": "DGLLRwvSQXzzQ091hKEHnv",
     "report_properties": {},
     "type": "CODE"
    },
    "vscode": {
     "languageId": "python"
    }
   },
   "outputs": [],
   "source": [
    "today = dt.date.today()\n",
    "print(today - delta) # the date 100 days ago\n",
    "print(today > today-delta) # compare dates"
   ]
  },
  {
   "attachments": {},
   "cell_type": "markdown",
   "metadata": {
    "datalore": {
     "hide_input_from_viewers": true,
     "hide_output_from_viewers": true,
     "node_id": "mi60MRuYuCjdsowl2lSt2t",
     "type": "MD"
    }
   },
   "source": [
    "# Break \n",
    "\n",
    "**Python Fact**: Pythons (specifically, ball pythons) are the most popular pet snake subspecies in the US. Unfortunately, well-intentioned (but misguided) python releasing in the Florida Everglades has caused them to be classified as an invasive species!\n",
    "\n",
    "If you're yawning as widely as a starved python, now's a good time to take a quick water break! We'll head on to **3. Python Intro II** in a bit."
   ]
  },
  {
   "attachments": {},
   "cell_type": "markdown",
   "metadata": {
    "datalore": {
     "hide_input_from_viewers": false,
     "hide_output_from_viewers": false,
     "node_id": "3. Python Intro II",
     "sheet_delimiter": true,
     "type": "MD"
    }
   },
   "source": [
    "# 3. Python Intro II"
   ]
  },
  {
   "attachments": {},
   "cell_type": "markdown",
   "metadata": {
    "datalore": {
     "hide_input_from_viewers": true,
     "hide_output_from_viewers": true,
     "node_id": "X9NSNderCXdjyI7W3gLgvU",
     "type": "MD"
    }
   },
   "source": [
    "# An Introduction to the Python Programming Language II\n",
    "## Python Objects\n",
    "Python is an object-oriented programming language. This means that many things (such as dates, strings, etc.) are objects that have their own properties. You can also define your own objects using the `class` keyword.\n",
    "\n",
    "Here an a quick example of a class in Python that we call `Person`. This class has two properties (a name and a location) and two functions (`set_name` and `set_location`) that allows you (the user) to set the object's properties."
   ]
  },
  {
   "cell_type": "code",
   "execution_count": 6,
   "metadata": {
    "datalore": {
     "hide_input_from_viewers": true,
     "hide_output_from_viewers": true,
     "node_id": "7EJTTV4FYCbHV7JHqYwLQu",
     "type": "CODE"
    },
    "vscode": {
     "languageId": "python"
    }
   },
   "outputs": [],
   "source": [
    "class Person:\n",
    "    department = 'School of Information' # a class variable\n",
    "\n",
    "    # setter functions\n",
    "    def set_name(self, new_name): #a method\n",
    "        self.name = new_name\n",
    "    def set_location(self, new_location):\n",
    "        self.location = new_location\n",
    "\n",
    "    # getter function\n",
    "    def get_name(self):\n",
    "        return self.name \n",
    "    "
   ]
  },
  {
   "cell_type": "code",
   "execution_count": 8,
   "metadata": {
    "datalore": {
     "hide_input_from_viewers": true,
     "hide_output_from_viewers": true,
     "node_id": "cafWX3lD02L8mJZrs2tvon",
     "type": "CODE"
    },
    "vscode": {
     "languageId": "python"
    }
   },
   "outputs": [
    {
     "name": "stdout",
     "output_type": "stream",
     "text": [
      "Mark Zuckerberg live in Ann Arbor, MI, USA and works in the department School of Information\n"
     ]
    }
   ],
   "source": [
    "# Making the object and setting its properties\n",
    "mark = Person()\n",
    "mark.set_name('Mark Zuckerberg')\n",
    "mark.set_location('Ann Arbor, MI, USA')\n",
    "print('{} live in {} and works in the department {}'.format(mark.name, mark.location, mark.department))"
   ]
  },
  {
   "cell_type": "code",
   "execution_count": 9,
   "metadata": {
    "datalore": {
     "hide_input_from_viewers": true,
     "hide_output_from_viewers": true,
     "node_id": "KHHRO25fNmhO2KH5N3LWgk",
     "type": "CODE"
    },
    "vscode": {
     "languageId": "python"
    }
   },
   "outputs": [
    {
     "data": {
      "text/plain": [
       "'Mark Zuckerberg'"
      ]
     },
     "metadata": {},
     "output_type": "display_data"
    }
   ],
   "source": [
    "mark.get_name()"
   ]
  },
  {
   "attachments": {},
   "cell_type": "markdown",
   "metadata": {
    "datalore": {
     "hide_input_from_viewers": true,
     "hide_output_from_viewers": true,
     "node_id": "dx4Z1Qc1vIzj0ABuXutnf8",
     "type": "MD"
    }
   },
   "source": [
    "### Try making your own class!\n",
    "You are a product manager for the new IKEA lamp. Write a class for the lamp that contains the following information about the lamp:\n",
    "1. Name of the product\n",
    "2. Product height\n",
    "3. Base width\n",
    "4. Colors\n",
    "5. Projected cost of production\n",
    "\n",
    "Your class should include setter and getter functions so the user has both access to the product information, and can set their own desired product features. "
   ]
  },
  {
   "cell_type": "code",
   "execution_count": 12,
   "metadata": {
    "datalore": {
     "hide_input_from_viewers": true,
     "hide_output_from_viewers": true,
     "node_id": "01L74LHY1BxHKn20Mu8Otw",
     "type": "CODE"
    },
    "vscode": {
     "languageId": "python"
    }
   },
   "outputs": [],
   "source": [
    "# define your IKEA lamp here\n",
    "class ikea_lamp():\n",
    "    company = 'Ikea' # a class variable\n",
    "\n",
    "    # setter functions\n",
    "    def set_name(self, new_name): #a method\n",
    "        self.name = new_name\n",
    "    def set_height(self, new_height):\n",
    "        self.height = new_location\n",
    "    def set_colors(self, colors):\n",
    "        self.colors = colors\n",
    "\n",
    "    # getter function\n",
    "    def get_colors(self):\n",
    "        return self.colors \n",
    "    "
   ]
  },
  {
   "cell_type": "code",
   "execution_count": 13,
   "metadata": {
    "datalore": {
     "hide_input_from_viewers": true,
     "hide_output_from_viewers": true,
     "node_id": "AQU4tbdMGzTR7OPLDPWOFu",
     "type": "CODE"
    },
    "vscode": {
     "languageId": "python"
    }
   },
   "outputs": [],
   "source": [
    "laamp = ikea_lamp()\n",
    "laamp.set_name('Laampe')\n",
    "laamp.set_colors(['purple', 'blue', 'maroon'])"
   ]
  },
  {
   "cell_type": "code",
   "execution_count": 14,
   "metadata": {
    "datalore": {
     "hide_input_from_viewers": true,
     "hide_output_from_viewers": true,
     "node_id": "fiNNLG3VRiTlWasnZwAmme",
     "type": "CODE"
    },
    "vscode": {
     "languageId": "python"
    }
   },
   "outputs": [
    {
     "data": {
      "text/plain": [
       "['purple', 'blue', 'maroon']"
      ]
     },
     "metadata": {},
     "output_type": "display_data"
    }
   ],
   "source": [
    "laamp.get_colors()"
   ]
  },
  {
   "attachments": {},
   "cell_type": "markdown",
   "metadata": {
    "datalore": {
     "hide_input_from_viewers": true,
     "hide_output_from_viewers": true,
     "node_id": "em2GxxnQ0YDzYeHWtw1oMY",
     "type": "MD"
    }
   },
   "source": [
    "## The `map()` function\n",
    "The `map()` function returns a `map` object that allows you to:\n",
    "1. Apply a given function (`min`, `max`, etc.) to each item of a given iterable (lists, tuples, arrays)\n",
    "2. Return a `map` object, which itself can be iterated over\n",
    "\n",
    "You can pass any number of iterables to the `map()` function. Let's take a look at the example below."
   ]
  },
  {
   "cell_type": "code",
   "execution_count": 21,
   "metadata": {
    "datalore": {
     "hide_input_from_viewers": true,
     "hide_output_from_viewers": true,
     "node_id": "4C4YBALnMAN6NrZRPo55lu",
     "type": "CODE"
    },
    "vscode": {
     "languageId": "python"
    }
   },
   "outputs": [
    {
     "name": "stdout",
     "output_type": "stream",
     "text": [
      "<map object at 0x7f1fd6543520>\n"
     ]
    }
   ],
   "source": [
    "store1 = [10.00, 11.00, 12.34, 2.34]\n",
    "store2 = [9.00, 11.10, 12.34, 2.01]\n",
    "cheapest = map(min, store1, store2)\n",
    "print(cheapest)"
   ]
  },
  {
   "attachments": {},
   "cell_type": "markdown",
   "metadata": {
    "datalore": {
     "hide_input_from_viewers": true,
     "hide_output_from_viewers": true,
     "node_id": "TpQRrJ0IgtSkMTXA5W3TnL",
     "type": "MD"
    }
   },
   "source": [
    "<br>\n",
    "Now let's iterate through the map object to see the values."
   ]
  },
  {
   "cell_type": "code",
   "execution_count": 4,
   "metadata": {
    "datalore": {
     "hide_input_from_viewers": true,
     "hide_output_from_viewers": true,
     "node_id": "enyjOazMTlFNizKSSuaYI1",
     "type": "CODE"
    },
    "vscode": {
     "languageId": "python"
    }
   },
   "outputs": [
    {
     "name": "stdout",
     "output_type": "stream",
     "text": [
      "9.0\n",
      "11.0\n",
      "12.34\n",
      "2.01\n"
     ]
    }
   ],
   "source": [
    "for item in cheapest:\n",
    "    print(item)"
   ]
  },
  {
   "attachments": {},
   "cell_type": "markdown",
   "metadata": {
    "datalore": {
     "hide_input_from_viewers": true,
     "hide_output_from_viewers": true,
     "node_id": "JLJcPVwJXg240X8Jn5dq78",
     "type": "MD"
    }
   },
   "source": [
    "### Challenge: Can you find the store that stocks the cheaper option for each of the four items?\n",
    "Write your code below!"
   ]
  },
  {
   "cell_type": "code",
   "execution_count": null,
   "metadata": {
    "datalore": {
     "hide_input_from_viewers": true,
     "hide_output_from_viewers": true,
     "node_id": "D3GKgb574sx4Esalzn49vj",
     "type": "CODE"
    },
    "vscode": {
     "languageId": "python"
    }
   },
   "outputs": [],
   "source": [
    "# Write your code below"
   ]
  },
  {
   "attachments": {},
   "cell_type": "markdown",
   "metadata": {
    "datalore": {
     "hide_input_from_viewers": true,
     "hide_output_from_viewers": true,
     "node_id": "g0nivJtKM7J7rPeaAEzFz0",
     "type": "MD"
    }
   },
   "source": [
    "## Lambdas\n",
    "In Python, a lambda can be thought of as a 'small' or 'short-cut' function. It can take any number of parameters, but can only have one output or return value.\n",
    "\n",
    "Here's an example of a lambda that takes in three parameters and adds the first two."
   ]
  },
  {
   "cell_type": "code",
   "execution_count": 16,
   "metadata": {
    "datalore": {
     "hide_input_from_viewers": true,
     "hide_output_from_viewers": true,
     "node_id": "Auefm3Mq99PDD46mi8RLiV",
     "type": "CODE"
    },
    "vscode": {
     "languageId": "python"
    }
   },
   "outputs": [
    {
     "data": {
      "text/plain": [
       "3"
      ]
     },
     "metadata": {},
     "output_type": "display_data"
    }
   ],
   "source": [
    "my_function = lambda a, b, c : a + b\n",
    "my_function(1, 2, 5)"
   ]
  },
  {
   "attachments": {},
   "cell_type": "markdown",
   "metadata": {
    "datalore": {
     "hide_input_from_viewers": true,
     "hide_output_from_viewers": true,
     "node_id": "dBbpxYSw0tld5wiDtFTlCH",
     "type": "MD"
    }
   },
   "source": [
    "Try writing a lambda that performs addition only if $b$ is greater than 5."
   ]
  },
  {
   "cell_type": "code",
   "execution_count": null,
   "metadata": {
    "datalore": {
     "hide_input_from_viewers": true,
     "hide_output_from_viewers": true,
     "node_id": "Vuo4tnxOYuKw4qGFmIvwu3",
     "type": "CODE"
    },
    "vscode": {
     "languageId": "python"
    }
   },
   "outputs": [],
   "source": [
    "my_function = lambda a, b : a + b if b > 5 else b = 0\n",
    "my_function(1,4)\n",
    "print(my_function)\n",
    "my_function(3,7)\n",
    "print(my_function)\n",
    "        "
   ]
  },
  {
   "attachments": {},
   "cell_type": "markdown",
   "metadata": {
    "datalore": {
     "hide_input_from_viewers": true,
     "hide_output_from_viewers": true,
     "node_id": "qYJpYX7Pu3R1i3kbcf3SBZ",
     "type": "MD"
    }
   },
   "source": [
    "## List comprehensions\n",
    "List comprehensions are a readable way of iterating over a list or array to select only items in the list that meet a certain condition. The main use of list comprehensions are to create a subset of items from an known list. The syntax is as follows:"
   ]
  },
  {
   "cell_type": "code",
   "execution_count": null,
   "metadata": {
    "datalore": {
     "hide_input_from_viewers": true,
     "hide_output_from_viewers": true,
     "node_id": "nc4emmoKeA5d54TQURBwqc",
     "type": "CODE"
    },
    "vscode": {
     "languageId": "python"
    }
   },
   "outputs": [],
   "source": [
    "# Do not run this line of code, for demonstration purposes only\n",
    "newlist = [x for x in list if condition == True]"
   ]
  },
  {
   "attachments": {},
   "cell_type": "markdown",
   "metadata": {
    "datalore": {
     "hide_input_from_viewers": true,
     "hide_output_from_viewers": true,
     "node_id": "UNfWMLgdYBszm7RroOAR7B",
     "type": "MD"
    }
   },
   "source": [
    "Now let's try it out!"
   ]
  },
  {
   "cell_type": "code",
   "execution_count": null,
   "metadata": {
    "datalore": {
     "hide_input_from_viewers": true,
     "hide_output_from_viewers": true,
     "node_id": "AFjLluWr9lS7rfKYhPEgvt",
     "type": "CODE"
    },
    "vscode": {
     "languageId": "python"
    }
   },
   "outputs": [],
   "source": [
    "my_list = [number for number in range(0,1000) if number % 2 == 0]\n",
    "my_list"
   ]
  },
  {
   "attachments": {},
   "cell_type": "markdown",
   "metadata": {
    "datalore": {
     "hide_input_from_viewers": true,
     "hide_output_from_viewers": true,
     "node_id": "yDeaHW6urvtueUGcm1NVCz",
     "type": "MD"
    }
   },
   "source": [
    "# Break \n",
    "\n",
    "**Python Fact**: Ball pythons can suffer from obesity - pet pythons only need to be fed every 1-2 weeks, and overfeeding them can lead to weight gain!\n",
    "\n",
    "Speaking of food, get a quick snack or drink and we'll proceed to  **4. Python CSV**."
   ]
  },
  {
   "attachments": {},
   "cell_type": "markdown",
   "metadata": {
    "datalore": {
     "hide_input_from_viewers": false,
     "hide_output_from_viewers": false,
     "node_id": "4. Python CSV",
     "sheet_delimiter": true,
     "type": "MD"
    }
   },
   "source": [
    "# 4. Python CSV"
   ]
  },
  {
   "attachments": {},
   "cell_type": "markdown",
   "metadata": {
    "datalore": {
     "hide_input_from_viewers": true,
     "hide_output_from_viewers": true,
     "node_id": "KjJCDgbtoBL4VLpHbhz9eR",
     "type": "MD"
    }
   },
   "source": [
    "# Reading and Writing CSV files\n",
    "Let's import our datafile `mpg.csv`, which contains fuel economy data for 234 cars.\n",
    "* `manufacturer` automobile manufacturer\n",
    "* `model` model of car\n",
    "* `displ` engine displacement in liters\n",
    "* `year` model year\n",
    "* `cyl` number of cylinders\n",
    "* `trans` type of transmission\n",
    "* `drv` f = front-wheel drive; r = rear-wheel drive; 4 = 4wd\n",
    "* `cty` city mpg\n",
    "* `hwy` highway mpg\n",
    "* `fl` fuel (e = ethanol E85, d = diesel, r = regular, p = premium, c = CNG)\n",
    "* `class` car classification"
   ]
  },
  {
   "cell_type": "code",
   "execution_count": 3,
   "metadata": {
    "datalore": {
     "hide_input_from_viewers": true,
     "hide_output_from_viewers": true,
     "node_id": "NFXhbeULr3f3IY0D8UcBUO",
     "type": "CODE"
    },
    "vscode": {
     "languageId": "python"
    }
   },
   "outputs": [],
   "source": [
    "import csv\n",
    "\n",
    "%precision 2   \n",
    "with open('mpg.csv') as csvfile:\n",
    "    mpg = list(csv.DictReader(csvfile))\n",
    "\n",
    "mpg[:3] # The first three dictionaries in our list."
   ]
  },
  {
   "attachments": {},
   "cell_type": "markdown",
   "metadata": {
    "datalore": {
     "hide_input_from_viewers": true,
     "hide_output_from_viewers": true,
     "node_id": "GveBm1crNWqFodjuguWpvs",
     "type": "MD"
    }
   },
   "source": [
    "Let's see how the data is organized, and how many dictionaries (CSV file rows) the dataset contains."
   ]
  },
  {
   "attachments": {},
   "cell_type": "markdown",
   "metadata": {
    "datalore": {
     "hide_input_from_viewers": true,
     "hide_output_from_viewers": true,
     "node_id": "tXLhsOsx2sveNwfeXZmWMT",
     "type": "MD"
    }
   },
   "source": [
    "`csv.Dictreader` has read in each row of our csv file as a dictionary. `len` shows that our list is comprised of 234 dictionaries."
   ]
  },
  {
   "cell_type": "code",
   "execution_count": 2,
   "metadata": {
    "datalore": {
     "hide_input_from_viewers": true,
     "hide_output_from_viewers": true,
     "node_id": "sT5wEOOw3bfpWnlL36Bkna",
     "type": "CODE"
    },
    "vscode": {
     "languageId": "python"
    }
   },
   "outputs": [
    {
     "data": {
      "text/plain": [
       "234"
      ]
     },
     "metadata": {},
     "output_type": "display_data"
    }
   ],
   "source": [
    "len(mpg)"
   ]
  },
  {
   "attachments": {},
   "cell_type": "markdown",
   "metadata": {
    "datalore": {
     "hide_input_from_viewers": true,
     "hide_output_from_viewers": true,
     "node_id": "9ASu5fzJ2vkLXyA6H1xpJr",
     "type": "MD"
    }
   },
   "source": [
    "`keys` gives us the column names of our csv."
   ]
  },
  {
   "cell_type": "code",
   "execution_count": null,
   "metadata": {
    "datalore": {
     "hide_input_from_viewers": true,
     "hide_output_from_viewers": true,
     "node_id": "awK76tSlXVBHnSALyyY2IR",
     "type": "CODE"
    },
    "vscode": {
     "languageId": "python"
    }
   },
   "outputs": [],
   "source": [
    "mpg[0].keys()"
   ]
  },
  {
   "attachments": {},
   "cell_type": "markdown",
   "metadata": {
    "datalore": {
     "hide_input_from_viewers": true,
     "hide_output_from_viewers": true,
     "node_id": "tBDqYFdgsfuVn00l2sPxMV",
     "type": "MD"
    }
   },
   "source": [
    "This is how to find the average `cty` fuel economy across all cars. All values in the dictionaries are strings, so we need to convert these values to floats."
   ]
  },
  {
   "cell_type": "code",
   "execution_count": null,
   "metadata": {
    "datalore": {
     "hide_input_from_viewers": true,
     "hide_output_from_viewers": true,
     "node_id": "wA4fSQpGXzuFKmzKkhwUMr",
     "type": "CODE"
    },
    "vscode": {
     "languageId": "python"
    }
   },
   "outputs": [],
   "source": [
    "sum(float(d['cty']) for d in mpg) / len(mpg)"
   ]
  },
  {
   "attachments": {},
   "cell_type": "markdown",
   "metadata": {
    "datalore": {
     "hide_input_from_viewers": true,
     "hide_output_from_viewers": true,
     "node_id": "WJKL5cKQvNEDItDybOwkNi",
     "type": "MD"
    }
   },
   "source": [
    "Similarly, this is how to find the average `hwy` fuel economy across all cars."
   ]
  },
  {
   "cell_type": "code",
   "execution_count": null,
   "metadata": {
    "datalore": {
     "hide_input_from_viewers": true,
     "hide_output_from_viewers": true,
     "node_id": "wzxY5Udqp3OZVBlnoF7Ovk",
     "type": "CODE"
    },
    "vscode": {
     "languageId": "python"
    }
   },
   "outputs": [],
   "source": [
    "sum(float(d['hwy']) for d in mpg) / len(mpg)"
   ]
  },
  {
   "attachments": {},
   "cell_type": "markdown",
   "metadata": {
    "datalore": {
     "hide_input_from_viewers": true,
     "hide_output_from_viewers": true,
     "node_id": "BaKpPZXl9TO3401axT08Sp",
     "type": "MD"
    }
   },
   "source": [
    "You can use the `set` function to return unique values for the number of cylinders the cars in our dataset have."
   ]
  },
  {
   "cell_type": "code",
   "execution_count": null,
   "metadata": {
    "datalore": {
     "hide_input_from_viewers": true,
     "hide_output_from_viewers": true,
     "node_id": "weMucIN1bxpAPdKHjiMsXR",
     "type": "CODE"
    },
    "vscode": {
     "languageId": "python"
    }
   },
   "outputs": [],
   "source": [
    "cylinders = set(d['cyl'] for d in mpg)\n",
    "cylinders"
   ]
  },
  {
   "attachments": {},
   "cell_type": "markdown",
   "metadata": {
    "datalore": {
     "hide_input_from_viewers": true,
     "hide_output_from_viewers": true,
     "node_id": "XP0YFqH87uQh9W2sUMUYXK",
     "type": "MD"
    }
   },
   "source": [
    "Here's a more complex example where we are grouping the cars by number of cylinders, and finding the average `cty` mpg for each group."
   ]
  },
  {
   "cell_type": "code",
   "execution_count": null,
   "metadata": {
    "datalore": {
     "hide_input_from_viewers": true,
     "hide_output_from_viewers": true,
     "node_id": "kC1HnjXMM6wfHvSMz8V1J4",
     "type": "CODE"
    },
    "vscode": {
     "languageId": "python"
    }
   },
   "outputs": [],
   "source": [
    "CtyMpgByCyl = []\n",
    "\n",
    "for c in cylinders: # iterate over all the cylinder levels\n",
    "    summpg = 0\n",
    "    cyltypecount = 0\n",
    "    for d in mpg: # iterate over all dictionaries\n",
    "        if d['cyl'] == c: # if the cylinder level type matches,\n",
    "            summpg += float(d['cty']) # add the cty mpg\n",
    "            cyltypecount += 1 # increment the count\n",
    "    CtyMpgByCyl.append((c, summpg / cyltypecount)) # append the tuple ('cylinder', 'avg mpg')\n",
    "\n",
    "CtyMpgByCyl.sort(key=lambda x: x[0])\n",
    "CtyMpgByCyl"
   ]
  },
  {
   "attachments": {},
   "cell_type": "markdown",
   "metadata": {
    "datalore": {
     "hide_input_from_viewers": true,
     "hide_output_from_viewers": true,
     "node_id": "DV5SXj9Q8wHnFZVBmP3dnM",
     "type": "MD"
    }
   },
   "source": [
    "Here, we use `set` again to return the unique values for the class types in our dataset."
   ]
  },
  {
   "cell_type": "code",
   "execution_count": null,
   "metadata": {
    "datalore": {
     "hide_input_from_viewers": true,
     "hide_output_from_viewers": true,
     "node_id": "8MofqQn8bEeXggbcWk6G2j",
     "type": "CODE"
    },
    "vscode": {
     "languageId": "python"
    }
   },
   "outputs": [],
   "source": [
    "vehicleclass = set(d['class'] for d in mpg) # what are the class types\n",
    "vehicleclass"
   ]
  },
  {
   "attachments": {},
   "cell_type": "markdown",
   "metadata": {
    "datalore": {
     "hide_input_from_viewers": true,
     "hide_output_from_viewers": true,
     "node_id": "bekCRXPYhWuMdCakhTRbwI",
     "type": "MD"
    }
   },
   "source": [
    "And here's an example of how to find the average `hwy` mpg for each class of vehicle in our dataset."
   ]
  },
  {
   "cell_type": "code",
   "execution_count": null,
   "metadata": {
    "datalore": {
     "hide_input_from_viewers": true,
     "hide_output_from_viewers": true,
     "node_id": "HrDuCRPL5Hep3JSApZTZpH",
     "type": "CODE"
    },
    "vscode": {
     "languageId": "python"
    }
   },
   "outputs": [],
   "source": [
    "HwyMpgByClass = []\n",
    "\n",
    "for t in vehicleclass: # iterate over all the vehicle classes\n",
    "    summpg = 0\n",
    "    vclasscount = 0\n",
    "    for d in mpg: # iterate over all dictionaries\n",
    "        if d['class'] == t: # if the cylinder amount type matches,\n",
    "            summpg += float(d['hwy']) # add the hwy mpg\n",
    "            vclasscount += 1 # increment the count\n",
    "    HwyMpgByClass.append((t, summpg / vclasscount)) # append the tuple ('class', 'avg mpg')\n",
    "\n",
    "HwyMpgByClass.sort(key=lambda x: x[1])\n",
    "HwyMpgByClass"
   ]
  },
  {
   "attachments": {},
   "cell_type": "markdown",
   "metadata": {
    "datalore": {
     "hide_input_from_viewers": true,
     "hide_output_from_viewers": true,
     "node_id": "9AxQfe7jpvGad5bwSOU0HN",
     "type": "MD"
    }
   },
   "source": [
    "## Try this out!\n",
    "Modify the code for the prior example where we grouped cars by number of cylinders. Instead, group cars by their manufacturer and find the *maximum* number of cylinders each manufacturer's car has. Identify the manufacturer(s) that produce cars with the most number of cylinders."
   ]
  },
  {
   "cell_type": "code",
   "execution_count": null,
   "metadata": {
    "datalore": {
     "hide_input_from_viewers": true,
     "hide_output_from_viewers": true,
     "node_id": "0aOLY0QEl3aSUy3WiWXhGb",
     "type": "CODE"
    },
    "vscode": {
     "languageId": "python"
    }
   },
   "outputs": [],
   "source": [
    "# Write your code here."
   ]
  },
  {
   "attachments": {},
   "cell_type": "markdown",
   "metadata": {
    "datalore": {
     "hide_input_from_viewers": true,
     "hide_output_from_viewers": true,
     "node_id": "Ywi5vIUExLb2k0MmCrcCEl",
     "type": "MD"
    }
   },
   "source": [
    "# Break \n",
    "\n",
    "**Blob fish Fact**: While other fish species use gas bladders to remain buoyant, blob fish achive this by simply being - you guess it - a blob! They have no bones or muscles - they get by simply by floating around in the deep sea and eating whatever they encounter.\n",
    "\n",
    "If you're feeling like a blob fish on land, it's time to get up and stretch, then move onward to **5. Python NumPy**."
   ]
  },
  {
   "attachments": {},
   "cell_type": "markdown",
   "metadata": {
    "datalore": {
     "hide_input_from_viewers": false,
     "hide_output_from_viewers": false,
     "node_id": "5. Python NumPy",
     "sheet_delimiter": true,
     "type": "MD"
    }
   },
   "source": [
    "# 5. Python NumPy"
   ]
  },
  {
   "attachments": {},
   "cell_type": "markdown",
   "metadata": {
    "datalore": {
     "hide_input_from_viewers": true,
     "hide_output_from_viewers": true,
     "node_id": "HjZVAGpBKET71ySWI2H8r2",
     "type": "MD"
    }
   },
   "source": [
    "# Numerical Python (NumPy)\n",
    "Numpy is one of the fundamental packages that you will be using a lot throughout this semester. It's mainly used for scientific computing. It provides convenient and efficient ways to manipulate data in arrays, as well as conduct vector operations. You can refer to its [Documentation page](https://numpy.org/doc/stable/) for more detailed information.\n",
    "\n",
    "Before we can achieve anything remotely productive, we first need to import the Numpy package."
   ]
  },
  {
   "cell_type": "code",
   "execution_count": 17,
   "metadata": {
    "datalore": {
     "hide_input_from_viewers": true,
     "hide_output_from_viewers": true,
     "node_id": "IzfaFTCKo9vgheW4jdb7bc",
     "type": "CODE"
    },
    "vscode": {
     "languageId": "python"
    }
   },
   "outputs": [],
   "source": [
    "import numpy as np"
   ]
  },
  {
   "attachments": {},
   "cell_type": "markdown",
   "metadata": {
    "datalore": {
     "hide_input_from_viewers": true,
     "hide_output_from_viewers": true,
     "node_id": "vSz8aKpwDrvgnczgd36TRi",
     "type": "MD"
    }
   },
   "source": [
    "## Creating Arrays\n",
    "Numpy provides a number of different ways to initialize and populate arrays. The first method is by first creating a list and converting it to a Numpy array. You can click on the 'raw' button to see the actual list."
   ]
  },
  {
   "cell_type": "code",
   "execution_count": 20,
   "metadata": {
    "datalore": {
     "hide_input_from_viewers": true,
     "hide_output_from_viewers": true,
     "node_id": "ST2FMjEQQm19EJ8gXA0eQO",
     "type": "CODE"
    },
    "vscode": {
     "languageId": "python"
    }
   },
   "outputs": [
    {
     "data": {
      "text/html": [
       "<pre>array([1, 2, 3])</pre>"
      ]
     },
     "metadata": {},
     "output_type": "display_data"
    }
   ],
   "source": [
    "mylist = [1, 2, 3]\n",
    "x = np.array(mylist)\n",
    "x"
   ]
  },
  {
   "attachments": {},
   "cell_type": "markdown",
   "metadata": {
    "datalore": {
     "hide_input_from_viewers": true,
     "hide_output_from_viewers": true,
     "node_id": "IInxdabXYYZr28y3ua6IR1",
     "type": "MD"
    }
   },
   "source": [
    "You can also just pass in a list directly."
   ]
  },
  {
   "cell_type": "code",
   "execution_count": 21,
   "metadata": {
    "datalore": {
     "hide_input_from_viewers": true,
     "hide_output_from_viewers": true,
     "node_id": "gML35kv50gzT5E5XHRIyQA",
     "type": "CODE"
    },
    "vscode": {
     "languageId": "python"
    }
   },
   "outputs": [
    {
     "data": {
      "text/html": [
       "<pre>array([4, 5, 6])</pre>"
      ]
     },
     "metadata": {},
     "output_type": "display_data"
    }
   ],
   "source": [
    "y = np.array([4, 5, 6])\n",
    "y"
   ]
  },
  {
   "attachments": {},
   "cell_type": "markdown",
   "metadata": {
    "datalore": {
     "hide_input_from_viewers": true,
     "hide_output_from_viewers": true,
     "node_id": "JGQT80XK2xOYUxzSB62Hqg",
     "type": "MD"
    }
   },
   "source": [
    "To create a multidimensional array (a matrix), you can pass in a list of lists."
   ]
  },
  {
   "cell_type": "code",
   "execution_count": 22,
   "metadata": {
    "datalore": {
     "hide_input_from_viewers": true,
     "hide_output_from_viewers": true,
     "node_id": "4hrpAeXStYpl8U5Al0G3rm",
     "type": "CODE"
    },
    "vscode": {
     "languageId": "python"
    }
   },
   "outputs": [
    {
     "data": {
      "text/html": [
       "<pre>array([[ 7,  8,  9],\n",
       "       [10, 11, 12]])</pre>"
      ]
     },
     "metadata": {},
     "output_type": "display_data"
    }
   ],
   "source": [
    "m = np.array([[7, 8, 9], [10, 11, 12]])\n",
    "m"
   ]
  },
  {
   "attachments": {},
   "cell_type": "markdown",
   "metadata": {
    "datalore": {
     "hide_input_from_viewers": true,
     "hide_output_from_viewers": true,
     "node_id": "90XKfzSsuGIj8VsUwnfu3p",
     "type": "MD"
    }
   },
   "source": [
    "Use the `shape` method to find the dimensions of the array which will be output as (rows, columns)"
   ]
  },
  {
   "cell_type": "code",
   "execution_count": 25,
   "metadata": {
    "datalore": {
     "hide_input_from_viewers": true,
     "hide_output_from_viewers": true,
     "node_id": "IMVfd7nq3FiY3IPLsJcMLP",
     "type": "CODE"
    },
    "vscode": {
     "languageId": "python"
    }
   },
   "outputs": [
    {
     "data": {
      "text/plain": [
       "3"
      ]
     },
     "metadata": {},
     "output_type": "display_data"
    }
   ],
   "source": [
    "# shape returns a tuple\n",
    "m.shape[1]"
   ]
  },
  {
   "attachments": {},
   "cell_type": "markdown",
   "metadata": {
    "datalore": {
     "hide_input_from_viewers": true,
     "hide_output_from_viewers": true,
     "node_id": "UGAbWXLifupWXBG4nQmXIy",
     "type": "MD"
    }
   },
   "source": [
    "The `arange` function returns evenly-spaced values within a given interval."
   ]
  },
  {
   "cell_type": "code",
   "execution_count": 29,
   "metadata": {
    "datalore": {
     "hide_input_from_viewers": true,
     "hide_output_from_viewers": true,
     "node_id": "hmvZREYKmNQCEPAqBoRTNc",
     "type": "CODE"
    },
    "vscode": {
     "languageId": "python"
    }
   },
   "outputs": [
    {
     "name": "stdout",
     "output_type": "stream",
     "text": [
      "[ 0  2  4  6  8 10 12 14 16 18 20 22 24 26 28]\n"
     ]
    }
   ],
   "source": [
    "n = np.arange(0, 30, 2) # start at 0 count up by 2, stop before 30\n",
    "print(n)"
   ]
  },
  {
   "attachments": {},
   "cell_type": "markdown",
   "metadata": {
    "datalore": {
     "hide_input_from_viewers": true,
     "hide_output_from_viewers": true,
     "node_id": "RV3vbzS7ct1svRofwonIdy",
     "type": "MD"
    }
   },
   "source": [
    "Numpy's `reshape` returns an array with the same data with a new shape."
   ]
  },
  {
   "cell_type": "code",
   "execution_count": 32,
   "metadata": {
    "datalore": {
     "hide_input_from_viewers": true,
     "hide_output_from_viewers": true,
     "node_id": "SwthtFp775m3US4uq6dTHb",
     "type": "CODE"
    },
    "vscode": {
     "languageId": "python"
    }
   },
   "outputs": [
    {
     "data": {
      "text/html": [
       "<pre>array([[ 0,  2,  4],\n",
       "       [ 6,  8, 10],\n",
       "       [12, 14, 16],\n",
       "       [18, 20, 22],\n",
       "       [24, 26, 28]])</pre>"
      ]
     },
     "metadata": {},
     "output_type": "display_data"
    }
   ],
   "source": [
    "n = n.reshape(5, 3) # reshape array to be 3x5\n",
    "n"
   ]
  },
  {
   "attachments": {},
   "cell_type": "markdown",
   "metadata": {
    "datalore": {
     "hide_input_from_viewers": true,
     "hide_output_from_viewers": true,
     "node_id": "uyZ0NeD0byydS2vIbAMkbM",
     "type": "MD"
    }
   },
   "source": [
    "The `linspace` function returns evenly-spaced numbers over a specified interval."
   ]
  },
  {
   "cell_type": "code",
   "execution_count": 34,
   "metadata": {
    "datalore": {
     "hide_input_from_viewers": true,
     "hide_output_from_viewers": true,
     "node_id": "CUGH2vpTcrENbl9YYXCmGw",
     "type": "CODE"
    },
    "vscode": {
     "languageId": "python"
    }
   },
   "outputs": [
    {
     "name": "stdout",
     "output_type": "stream",
     "text": [
      "[0.  0.5 1.  1.5 2.  2.5 3.  3.5 4. ]\n"
     ]
    }
   ],
   "source": [
    "# linspace always returns arrays that contains floats\n",
    "o = np.linspace(0, 4, 9) # return 9 evenly spaced values from 0 to 4\n",
    "print(o)"
   ]
  },
  {
   "attachments": {},
   "cell_type": "markdown",
   "metadata": {
    "datalore": {
     "hide_input_from_viewers": true,
     "hide_output_from_viewers": true,
     "node_id": "X9dz98PzB3GMAO6zZI0CkQ",
     "type": "MD"
    }
   },
   "source": [
    "The `resize` function changes the shape and size of array in-place. That is, it modifies the original array."
   ]
  },
  {
   "cell_type": "code",
   "execution_count": 35,
   "metadata": {
    "datalore": {
     "hide_input_from_viewers": true,
     "hide_output_from_viewers": true,
     "node_id": "IMf4wRvHc9cMC3jzOkAXAM",
     "type": "CODE"
    },
    "vscode": {
     "languageId": "python"
    }
   },
   "outputs": [
    {
     "data": {
      "text/html": [
       "<pre>array([[0. , 0.5, 1. ],\n",
       "       [1.5, 2. , 2.5],\n",
       "       [3. , 3.5, 4. ]])</pre>"
      ]
     },
     "metadata": {},
     "output_type": "display_data"
    }
   ],
   "source": [
    "o.resize(3, 3)\n",
    "o"
   ]
  },
  {
   "attachments": {},
   "cell_type": "markdown",
   "metadata": {
    "datalore": {
     "hide_input_from_viewers": true,
     "hide_output_from_viewers": true,
     "node_id": "R4EMnMnqbpGgMEoQR5ZSU6",
     "type": "MD"
    }
   },
   "source": [
    "Numpy `ones` returns a new array of given shape and type, filled with ones."
   ]
  },
  {
   "cell_type": "code",
   "execution_count": 45,
   "metadata": {
    "datalore": {
     "hide_input_from_viewers": true,
     "hide_output_from_viewers": true,
     "node_id": "qtrwQqZ1hnP8sN7MCXJk2G",
     "type": "CODE"
    },
    "vscode": {
     "languageId": "python"
    }
   },
   "outputs": [
    {
     "data": {
      "text/html": [
       "<pre>array([[1.],\n",
       "       [1.],\n",
       "       [1.]])</pre>"
      ]
     },
     "metadata": {},
     "output_type": "display_data"
    }
   ],
   "source": [
    "np.ones((1,3)).T"
   ]
  },
  {
   "attachments": {},
   "cell_type": "markdown",
   "metadata": {
    "datalore": {
     "hide_input_from_viewers": true,
     "hide_output_from_viewers": true,
     "node_id": "gEGF9pxZkuRWA7e6M8cA9n",
     "type": "MD"
    }
   },
   "source": [
    "The `zeros` function returns a new array of given shape and type, filled with zeros. The first parameter can be an integer (1D array) or a tuple (a matrix). The second parameter is *optional*; it uses the `dtype` keyword that allows the user to indicate if they would like to specify an array or a matrix of integers or floats."
   ]
  },
  {
   "cell_type": "code",
   "execution_count": 48,
   "metadata": {
    "datalore": {
     "hide_input_from_viewers": true,
     "hide_output_from_viewers": true,
     "node_id": "ghGuEkLX2z0YQOQFQkI5b6",
     "type": "CODE"
    },
    "vscode": {
     "languageId": "python"
    }
   },
   "outputs": [
    {
     "data": {
      "text/html": [
       "<pre>array([[0, 0, 0],\n",
       "       [0, 0, 0]])</pre>"
      ]
     },
     "metadata": {},
     "output_type": "display_data"
    }
   ],
   "source": [
    "np.zeros((2, 3), dtype=int)"
   ]
  },
  {
   "attachments": {},
   "cell_type": "markdown",
   "metadata": {
    "datalore": {
     "hide_input_from_viewers": true,
     "hide_output_from_viewers": true,
     "node_id": "wSEfG2903HF8qCfGlLJVFZ",
     "type": "MD"
    }
   },
   "source": [
    "### Try this out!\n",
    "Try to create a Numpy 2D float matrix of size (3,6). Next, in a for loop, populate each row with identical arrays of 6 values that are evenly-spaced from 0 to 3."
   ]
  },
  {
   "cell_type": "code",
   "execution_count": 53,
   "metadata": {
    "datalore": {
     "hide_input_from_viewers": true,
     "hide_output_from_viewers": true,
     "node_id": "lm6emuJFBo1UDdWYbEShTB",
     "type": "CODE"
    },
    "vscode": {
     "languageId": "python"
    }
   },
   "outputs": [
    {
     "name": "stdout",
     "output_type": "stream",
     "text": [
      "[[0.  0.6 1.2 1.8 2.4 3. ]\n",
      " [0.  0.6 1.2 1.8 2.4 3. ]\n",
      " [0.  0.6 1.2 1.8 2.4 3. ]\n",
      " [0.  0.6 1.2 1.8 2.4 3. ]\n",
      " [0.  0.6 1.2 1.8 2.4 3. ]\n",
      " [0.  0.6 1.2 1.8 2.4 3. ]]\n"
     ]
    }
   ],
   "source": [
    "# Write your code here\n",
    "sixes = np.zeros((6,6), dtype=float)\n",
    "for i in range(0, sixes.shape[0]):\n",
    "    sixes[i,:] = np.linspace(0,3,6)\n",
    "print(sixes)"
   ]
  },
  {
   "attachments": {},
   "cell_type": "markdown",
   "metadata": {
    "datalore": {
     "hide_input_from_viewers": true,
     "hide_output_from_viewers": true,
     "node_id": "3ysooafRhWSycTlBt7nEvq",
     "type": "MD"
    }
   },
   "source": [
    "The `eye` function returns a 2-D array with ones on the diagonal and zeros elsewhere."
   ]
  },
  {
   "cell_type": "code",
   "execution_count": 52,
   "metadata": {
    "datalore": {
     "hide_input_from_viewers": true,
     "hide_output_from_viewers": true,
     "node_id": "MvwCXXYJIeBFGusNSL9HDA",
     "type": "CODE"
    },
    "vscode": {
     "languageId": "python"
    }
   },
   "outputs": [
    {
     "data": {
      "text/html": [
       "<pre>array([[1., 0., 0.],\n",
       "       [0., 1., 0.],\n",
       "       [0., 0., 1.]])</pre>"
      ]
     },
     "metadata": {},
     "output_type": "display_data"
    }
   ],
   "source": [
    "np.eye(3)"
   ]
  },
  {
   "attachments": {},
   "cell_type": "markdown",
   "metadata": {
    "datalore": {
     "hide_input_from_viewers": true,
     "hide_output_from_viewers": true,
     "node_id": "ATYEwj3PUBDj8i2YuAJBeo",
     "type": "MD"
    }
   },
   "source": [
    "Numpy `diag` extracts a diagonal or constructs a diagonal array."
   ]
  },
  {
   "cell_type": "code",
   "execution_count": 54,
   "metadata": {
    "datalore": {
     "hide_input_from_viewers": true,
     "hide_output_from_viewers": true,
     "node_id": "HR0Ks1BEl2EpeMduOubfWk",
     "type": "CODE"
    },
    "vscode": {
     "languageId": "python"
    }
   },
   "outputs": [
    {
     "data": {
      "text/html": [
       "<pre>array([0. , 0.6, 1.2, 1.8, 2.4, 3. ])</pre>"
      ]
     },
     "metadata": {},
     "output_type": "display_data"
    }
   ],
   "source": [
    "np.diag(sixes)"
   ]
  },
  {
   "attachments": {},
   "cell_type": "markdown",
   "metadata": {
    "datalore": {
     "hide_input_from_viewers": true,
     "hide_output_from_viewers": true,
     "node_id": "6AOUCdWxQi9qcP0NqGPBLg",
     "type": "MD"
    }
   },
   "source": [
    "Create an array using repeating list (or see `np.tile`)"
   ]
  },
  {
   "cell_type": "code",
   "execution_count": 56,
   "metadata": {
    "datalore": {
     "hide_input_from_viewers": true,
     "hide_output_from_viewers": true,
     "node_id": "8IceBmkSHbplDOaWfonubR",
     "type": "CODE"
    },
    "vscode": {
     "languageId": "python"
    }
   },
   "outputs": [
    {
     "data": {
      "text/html": [
       "<pre>array([[1, 2, 3],\n",
       "       [1, 2, 3],\n",
       "       [1, 2, 3]])</pre>"
      ]
     },
     "metadata": {},
     "output_type": "display_data"
    }
   ],
   "source": [
    "np.array([1, 2, 3] * 3).reshape(3,3)"
   ]
  },
  {
   "attachments": {},
   "cell_type": "markdown",
   "metadata": {
    "datalore": {
     "hide_input_from_viewers": true,
     "hide_output_from_viewers": true,
     "node_id": "LMfMr9li2jO7jIaj8m1KFw",
     "type": "MD"
    }
   },
   "source": [
    "You can repeat elements of an array using `repeat`."
   ]
  },
  {
   "cell_type": "code",
   "execution_count": 58,
   "metadata": {
    "datalore": {
     "hide_input_from_viewers": true,
     "hide_output_from_viewers": true,
     "node_id": "ZooXf1Qk6EgsuHY0NZ381I",
     "type": "CODE"
    },
    "vscode": {
     "languageId": "python"
    }
   },
   "outputs": [
    {
     "data": {
      "text/html": [
       "<pre>array([[1, 1, 1],\n",
       "       [2, 2, 2],\n",
       "       [3, 3, 3]])</pre>"
      ]
     },
     "metadata": {},
     "output_type": "display_data"
    }
   ],
   "source": [
    "np.repeat([1, 2, 3], 3).reshape(3,3)"
   ]
  },
  {
   "attachments": {},
   "cell_type": "markdown",
   "metadata": {
    "datalore": {
     "hide_input_from_viewers": true,
     "hide_output_from_viewers": true,
     "node_id": "FkUms0scUDj3P5vgTNqvSM",
     "type": "MD"
    }
   },
   "source": [
    "## Combining Arrays\n",
    "Sometimes, it might be useful to combine arrays that contain the same (or similar) information. Let's look at a couple of ways to combine arrays using Numpy.\n",
    "\n",
    "First, we initialize a Numpy matrix of ones."
   ]
  },
  {
   "cell_type": "code",
   "execution_count": 59,
   "metadata": {
    "datalore": {
     "hide_input_from_viewers": true,
     "hide_output_from_viewers": true,
     "node_id": "AgDwpSdE8OdR8YC7YfwUCy",
     "type": "CODE"
    },
    "vscode": {
     "languageId": "python"
    }
   },
   "outputs": [
    {
     "data": {
      "text/html": [
       "<pre>array([[1, 1, 1],\n",
       "       [1, 1, 1]])</pre>"
      ]
     },
     "metadata": {},
     "output_type": "display_data"
    }
   ],
   "source": [
    "p = np.ones([2, 3], int)\n",
    "p"
   ]
  },
  {
   "attachments": {},
   "cell_type": "markdown",
   "metadata": {
    "datalore": {
     "hide_input_from_viewers": true,
     "hide_output_from_viewers": true,
     "node_id": "2pHRNGOrdqicTg7Mvrtn25",
     "type": "MD"
    }
   },
   "source": [
    "Use `vstack` to stack arrays in sequence vertically (row wise, or on top of each other)."
   ]
  },
  {
   "cell_type": "code",
   "execution_count": 60,
   "metadata": {
    "datalore": {
     "hide_input_from_viewers": true,
     "hide_output_from_viewers": true,
     "node_id": "gAzlRe67hF1hb1USJsUSAR",
     "type": "CODE"
    },
    "vscode": {
     "languageId": "python"
    }
   },
   "outputs": [
    {
     "data": {
      "text/html": [
       "<pre>array([[1, 1, 1],\n",
       "       [1, 1, 1],\n",
       "       [2, 2, 2],\n",
       "       [2, 2, 2]])</pre>"
      ]
     },
     "metadata": {},
     "output_type": "display_data"
    }
   ],
   "source": [
    "np.vstack([p, 2*p])"
   ]
  },
  {
   "attachments": {},
   "cell_type": "markdown",
   "metadata": {
    "datalore": {
     "hide_input_from_viewers": true,
     "hide_output_from_viewers": true,
     "node_id": "2Lqp0Oln7lSQ3pbQREiBZC",
     "type": "MD"
    }
   },
   "source": [
    "Use `hstack` to stack arrays in sequence horizontally (column wise, or beside each other)."
   ]
  },
  {
   "cell_type": "code",
   "execution_count": 61,
   "metadata": {
    "datalore": {
     "hide_input_from_viewers": true,
     "hide_output_from_viewers": true,
     "node_id": "MZ1aouhCt4RxrgOca5W9y0",
     "type": "CODE"
    },
    "vscode": {
     "languageId": "python"
    }
   },
   "outputs": [
    {
     "data": {
      "text/html": [
       "<pre>array([[1, 1, 1, 2, 2, 2],\n",
       "       [1, 1, 1, 2, 2, 2]])</pre>"
      ]
     },
     "metadata": {},
     "output_type": "display_data"
    }
   ],
   "source": [
    "np.hstack([p, 2*p])"
   ]
  },
  {
   "attachments": {},
   "cell_type": "markdown",
   "metadata": {
    "datalore": {
     "hide_input_from_viewers": true,
     "hide_output_from_viewers": true,
     "node_id": "1LR1tOfruNQOh1O20RjGqR",
     "type": "MD"
    }
   },
   "source": [
    "## Operations\n",
    "### Basic Operations\n",
    "The basic operations in Numpy are your usual suspects- use `+`, `-`, `*`, `/` and `**` to perform element-wise addition, subtraction, multiplication, division and power."
   ]
  },
  {
   "cell_type": "code",
   "execution_count": 62,
   "metadata": {
    "datalore": {
     "hide_input_from_viewers": true,
     "hide_output_from_viewers": true,
     "node_id": "ccCpVG7CYRdpLN9XAggKmt",
     "type": "CODE"
    },
    "vscode": {
     "languageId": "python"
    }
   },
   "outputs": [
    {
     "name": "stdout",
     "output_type": "stream",
     "text": [
      "[5 7 9]\n",
      "[-3 -3 -3]\n"
     ]
    }
   ],
   "source": [
    "x = np.array([1,2,3])\n",
    "y = np.array([4,5,6])\n",
    "print(x + y) # elementwise addition     [1 2 3] + [4 5 6] = [5  7  9]\n",
    "print(x - y) # elementwise subtraction  [1 2 3] - [4 5 6] = [-3 -3 -3]"
   ]
  },
  {
   "cell_type": "code",
   "execution_count": null,
   "metadata": {
    "datalore": {
     "hide_input_from_viewers": true,
     "hide_output_from_viewers": true,
     "node_id": "iEw1048vT5AxrtsWQUU8fB",
     "type": "CODE"
    },
    "vscode": {
     "languageId": "python"
    }
   },
   "outputs": [],
   "source": [
    "print(x * y) # elementwise multiplication  [1 2 3] * [4 5 6] = [4  10  18]\n",
    "print(x / y) # elementwise divison         [1 2 3] / [4 5 6] = [0.25  0.4  0.5]"
   ]
  },
  {
   "cell_type": "code",
   "execution_count": 63,
   "metadata": {
    "datalore": {
     "hide_input_from_viewers": true,
     "hide_output_from_viewers": true,
     "node_id": "eLmSMP4e2v959s3zvlLbYo",
     "type": "CODE"
    },
    "vscode": {
     "languageId": "python"
    }
   },
   "outputs": [
    {
     "name": "stdout",
     "output_type": "stream",
     "text": [
      "[1 4 9]\n",
      "[1 4 9]\n"
     ]
    }
   ],
   "source": [
    "print(x**2) # elementwise power  [1 2 3] ^2 =  [1 4 9]\n",
    "print(np.power(x,2))"
   ]
  },
  {
   "attachments": {},
   "cell_type": "markdown",
   "metadata": {
    "datalore": {
     "hide_input_from_viewers": true,
     "hide_output_from_viewers": true,
     "node_id": "EjajRcmAqD0VPYL8Zo6RZx",
     "type": "MD"
    }
   },
   "source": [
    "### The dot product\n",
    "The dot product (implemented using the `dot()` function) is a concise way of conducting element-wise multiplication and addition.  \n",
    "\n",
    "$ \\begin{bmatrix}x_1 \\ x_2 \\ x_3\\end{bmatrix}\n",
    "\\cdot\n",
    "\\begin{bmatrix}y_1 \\\\ y_2 \\\\ y_3\\end{bmatrix}\n",
    "= x_1 y_1 + x_2 y_2 + x_3 y_3$"
   ]
  },
  {
   "cell_type": "code",
   "execution_count": 64,
   "metadata": {
    "datalore": {
     "hide_input_from_viewers": true,
     "hide_output_from_viewers": true,
     "node_id": "j1VsjpJZP5AE79pP6yeKZT",
     "type": "CODE"
    },
    "vscode": {
     "languageId": "python"
    }
   },
   "outputs": [
    {
     "data": {
      "text/plain": [
       "32"
      ]
     },
     "metadata": {},
     "output_type": "display_data"
    }
   ],
   "source": [
    "x.dot(y) # dot product  1*4 + 2*5 + 3*6"
   ]
  },
  {
   "cell_type": "code",
   "execution_count": null,
   "metadata": {
    "datalore": {
     "hide_input_from_viewers": true,
     "hide_output_from_viewers": true,
     "node_id": "XcOwm3BtTDYGxYTfJK50kC",
     "type": "CODE"
    },
    "vscode": {
     "languageId": "python"
    }
   },
   "outputs": [],
   "source": [
    "z = np.array([y, y**2])\n",
    "print(len(z)) # number of rows of array"
   ]
  },
  {
   "attachments": {},
   "cell_type": "markdown",
   "metadata": {
    "datalore": {
     "hide_input_from_viewers": true,
     "hide_output_from_viewers": true,
     "node_id": "iiLn4XNYwJfVhNuz431TMT",
     "type": "MD"
    }
   },
   "source": [
    "### Transposing arrays \n",
    "Let's look at transposing arrays. Transposing permutes the dimensions of the array. Let's take a look at how transposing affects our new array `z`."
   ]
  },
  {
   "cell_type": "code",
   "execution_count": 65,
   "metadata": {
    "datalore": {
     "hide_input_from_viewers": true,
     "hide_output_from_viewers": true,
     "node_id": "v7mCSVnMSrSodASIQ0uq7Z",
     "type": "CODE"
    },
    "vscode": {
     "languageId": "python"
    }
   },
   "outputs": [
    {
     "data": {
      "text/html": [
       "<pre>array([[ 4,  5,  6],\n",
       "       [16, 25, 36]])</pre>"
      ]
     },
     "metadata": {},
     "output_type": "display_data"
    }
   ],
   "source": [
    "z = np.array([y, y**2])\n",
    "z"
   ]
  },
  {
   "attachments": {},
   "cell_type": "markdown",
   "metadata": {
    "datalore": {
     "hide_input_from_viewers": true,
     "hide_output_from_viewers": true,
     "node_id": "7KJzy7ti9qFgTeiuoYP102",
     "type": "MD"
    }
   },
   "source": [
    "The shape of array `z` is `(2,3)` before transposing."
   ]
  },
  {
   "cell_type": "code",
   "execution_count": 66,
   "metadata": {
    "datalore": {
     "hide_input_from_viewers": true,
     "hide_output_from_viewers": true,
     "node_id": "PG83PHUqbxyHdCCLijBLl2",
     "type": "CODE"
    },
    "vscode": {
     "languageId": "python"
    }
   },
   "outputs": [
    {
     "data": {
      "text/plain": [
       "(2, 3)"
      ]
     },
     "metadata": {},
     "output_type": "display_data"
    }
   ],
   "source": [
    "z.shape"
   ]
  },
  {
   "attachments": {},
   "cell_type": "markdown",
   "metadata": {
    "datalore": {
     "hide_input_from_viewers": true,
     "hide_output_from_viewers": true,
     "node_id": "ort71S1Vw9FYaaqrtKieCo",
     "type": "MD"
    }
   },
   "source": [
    "Use `.T` to get the transpose."
   ]
  },
  {
   "cell_type": "code",
   "execution_count": 67,
   "metadata": {
    "datalore": {
     "hide_input_from_viewers": true,
     "hide_output_from_viewers": true,
     "node_id": "IE5bzVEVvDDPaurkly7wc4",
     "type": "CODE"
    },
    "vscode": {
     "languageId": "python"
    }
   },
   "outputs": [
    {
     "data": {
      "text/plain": [
       "(3, 2)"
      ]
     },
     "metadata": {},
     "output_type": "display_data"
    }
   ],
   "source": [
    "(z.T).shape"
   ]
  },
  {
   "attachments": {},
   "cell_type": "markdown",
   "metadata": {
    "datalore": {
     "hide_input_from_viewers": true,
     "hide_output_from_viewers": true,
     "node_id": "GXwdDgLnvoS0jwYFTwyDkz",
     "type": "MD"
    }
   },
   "source": [
    "The number of rows has swapped with the number of columns!"
   ]
  },
  {
   "cell_type": "code",
   "execution_count": null,
   "metadata": {
    "datalore": {
     "hide_input_from_viewers": true,
     "hide_output_from_viewers": true,
     "node_id": "WaILAT9PXQEeYMuF3hl3ef",
     "type": "CODE"
    },
    "vscode": {
     "languageId": "python"
    }
   },
   "outputs": [],
   "source": [
    "z.T.shape"
   ]
  },
  {
   "attachments": {},
   "cell_type": "markdown",
   "metadata": {
    "datalore": {
     "hide_input_from_viewers": true,
     "hide_output_from_viewers": true,
     "node_id": "OOyWcqJw1XAMkp6aQYaTyH",
     "type": "MD"
    }
   },
   "source": [
    "Use the Numpy `.dtype` method to see the data type of the elements in the array."
   ]
  },
  {
   "cell_type": "code",
   "execution_count": 68,
   "metadata": {
    "datalore": {
     "hide_input_from_viewers": true,
     "hide_output_from_viewers": true,
     "node_id": "fZwc03WgeKFF8neC9y9PvC",
     "type": "CODE"
    },
    "vscode": {
     "languageId": "python"
    }
   },
   "outputs": [
    {
     "data": {
      "text/plain": [
       "dtype('int64')"
      ]
     },
     "metadata": {},
     "output_type": "display_data"
    }
   ],
   "source": [
    "z.dtype"
   ]
  },
  {
   "attachments": {},
   "cell_type": "markdown",
   "metadata": {
    "datalore": {
     "hide_input_from_viewers": true,
     "hide_output_from_viewers": true,
     "node_id": "Mqsuuh4wUxWldj0LIbibK9",
     "type": "MD"
    }
   },
   "source": [
    "Use `.astype` to cast all elements in the array to a specific type."
   ]
  },
  {
   "cell_type": "code",
   "execution_count": 69,
   "metadata": {
    "datalore": {
     "hide_input_from_viewers": true,
     "hide_output_from_viewers": true,
     "node_id": "67KMtHa6cjjuHMf8sd5V5B",
     "type": "CODE"
    },
    "vscode": {
     "languageId": "python"
    }
   },
   "outputs": [
    {
     "data": {
      "text/plain": [
       "dtype('float32')"
      ]
     },
     "metadata": {},
     "output_type": "display_data"
    }
   ],
   "source": [
    "z = z.astype('f')\n",
    "z.dtype"
   ]
  },
  {
   "attachments": {},
   "cell_type": "markdown",
   "metadata": {
    "datalore": {
     "hide_input_from_viewers": true,
     "hide_output_from_viewers": true,
     "node_id": "5n5d8El7k1kJGL9oJqSE60",
     "type": "MD"
    }
   },
   "source": [
    "## Math Functions\n",
    "Numpy has many built-in math functions that can be performed on arrays. We will demonstrate them on a new array `a`."
   ]
  },
  {
   "cell_type": "code",
   "execution_count": 71,
   "metadata": {
    "datalore": {
     "hide_input_from_viewers": true,
     "hide_output_from_viewers": true,
     "node_id": "K3aySa2V5eH45srmvaLw3Y",
     "type": "CODE"
    },
    "vscode": {
     "languageId": "python"
    }
   },
   "outputs": [],
   "source": [
    "a = np.array([-4, -2, 1, 3, 5])"
   ]
  },
  {
   "cell_type": "code",
   "execution_count": 72,
   "metadata": {
    "datalore": {
     "hide_input_from_viewers": true,
     "hide_output_from_viewers": true,
     "node_id": "5MEuSkNs9qs0LE759eUv3S",
     "type": "CODE"
    },
    "vscode": {
     "languageId": "python"
    }
   },
   "outputs": [
    {
     "data": {
      "text/plain": [
       "3"
      ]
     },
     "metadata": {},
     "output_type": "display_data"
    }
   ],
   "source": [
    "a.sum()"
   ]
  },
  {
   "cell_type": "code",
   "execution_count": 73,
   "metadata": {
    "datalore": {
     "hide_input_from_viewers": true,
     "hide_output_from_viewers": true,
     "node_id": "8Db4bHM71VH3lot9UHPbXY",
     "type": "CODE"
    },
    "vscode": {
     "languageId": "python"
    }
   },
   "outputs": [
    {
     "data": {
      "text/plain": [
       "5"
      ]
     },
     "metadata": {},
     "output_type": "display_data"
    }
   ],
   "source": [
    "a.max()"
   ]
  },
  {
   "cell_type": "code",
   "execution_count": 74,
   "metadata": {
    "datalore": {
     "hide_input_from_viewers": true,
     "hide_output_from_viewers": true,
     "node_id": "32BTNoZYOD2Dr3FarHG2VL",
     "type": "CODE"
    },
    "vscode": {
     "languageId": "python"
    }
   },
   "outputs": [
    {
     "data": {
      "text/plain": [
       "-4"
      ]
     },
     "metadata": {},
     "output_type": "display_data"
    }
   ],
   "source": [
    "a.min()"
   ]
  },
  {
   "cell_type": "code",
   "execution_count": 76,
   "metadata": {
    "datalore": {
     "hide_input_from_viewers": true,
     "hide_output_from_viewers": true,
     "node_id": "EkD458DNja0LFSmHfDKCGw",
     "type": "CODE"
    },
    "vscode": {
     "languageId": "python"
    }
   },
   "outputs": [
    {
     "data": {
      "text/plain": [
       "3.0"
      ]
     },
     "metadata": {},
     "output_type": "display_data"
    }
   ],
   "source": [
    "np.abs(a).mean()"
   ]
  },
  {
   "cell_type": "code",
   "execution_count": 77,
   "metadata": {
    "datalore": {
     "hide_input_from_viewers": true,
     "hide_output_from_viewers": true,
     "node_id": "65eFP7szfOMFrdZ7CMyjEr",
     "type": "CODE"
    },
    "vscode": {
     "languageId": "python"
    }
   },
   "outputs": [
    {
     "data": {
      "text/plain": [
       "3.2619012860600183"
      ]
     },
     "metadata": {},
     "output_type": "display_data"
    }
   ],
   "source": [
    "a.std()"
   ]
  },
  {
   "attachments": {},
   "cell_type": "markdown",
   "metadata": {
    "datalore": {
     "hide_input_from_viewers": true,
     "hide_output_from_viewers": true,
     "node_id": "sjMHlzM8IJrphh876IOUNT",
     "type": "MD"
    }
   },
   "source": [
    "`argmax` and `argmin` return the index of the maximum and minimum values in the array."
   ]
  },
  {
   "cell_type": "code",
   "execution_count": 78,
   "metadata": {
    "datalore": {
     "hide_input_from_viewers": true,
     "hide_output_from_viewers": true,
     "node_id": "8cg75RRfcW1A5vG2IEmJ4n",
     "type": "CODE"
    },
    "vscode": {
     "languageId": "python"
    }
   },
   "outputs": [
    {
     "data": {
      "text/plain": [
       "4"
      ]
     },
     "metadata": {},
     "output_type": "display_data"
    }
   ],
   "source": [
    "a.argmax()"
   ]
  },
  {
   "cell_type": "code",
   "execution_count": 79,
   "metadata": {
    "datalore": {
     "hide_input_from_viewers": true,
     "hide_output_from_viewers": true,
     "node_id": "rUj8d06VHHwlYaId3hNxYU",
     "type": "CODE"
    },
    "vscode": {
     "languageId": "python"
    }
   },
   "outputs": [
    {
     "data": {
      "text/plain": [
       "0"
      ]
     },
     "metadata": {},
     "output_type": "display_data"
    }
   ],
   "source": [
    "a.argmin()"
   ]
  },
  {
   "attachments": {},
   "cell_type": "markdown",
   "metadata": {
    "datalore": {
     "hide_input_from_viewers": true,
     "hide_output_from_viewers": true,
     "node_id": "nJjuWQjRNJ1uzOu7BHRFVk",
     "type": "MD"
    }
   },
   "source": [
    "## Indexing / Slicing\n",
    "In Numpy, we can use bracket notation to get the value at a specific index. Remember that indexing in Python starts at 0. We explore indexing with Numpy using a new array `s`."
   ]
  },
  {
   "cell_type": "code",
   "execution_count": null,
   "metadata": {
    "datalore": {
     "hide_input_from_viewers": true,
     "hide_output_from_viewers": true,
     "node_id": "0Z7Dardm0hzNplEPFbqHXX",
     "type": "CODE"
    },
    "vscode": {
     "languageId": "python"
    }
   },
   "outputs": [],
   "source": [
    "s = np.arange(13)**2\n",
    "s"
   ]
  },
  {
   "cell_type": "code",
   "execution_count": null,
   "metadata": {
    "datalore": {
     "hide_input_from_viewers": true,
     "hide_output_from_viewers": true,
     "node_id": "766wLznjHHBGnyip9v3Fwm",
     "type": "CODE"
    },
    "vscode": {
     "languageId": "python"
    }
   },
   "outputs": [],
   "source": [
    "s[0], s[4], s[-1]"
   ]
  },
  {
   "attachments": {},
   "cell_type": "markdown",
   "metadata": {
    "datalore": {
     "hide_input_from_viewers": true,
     "hide_output_from_viewers": true,
     "node_id": "DKmeT9O4IxisKRsg9MGToW",
     "type": "MD"
    }
   },
   "source": [
    "Use `:` to indicate a range. `array[start:stop]`\n",
    "\n",
    "Leaving `start` or `stop` empty will default to the beginning/end of the array."
   ]
  },
  {
   "cell_type": "code",
   "execution_count": null,
   "metadata": {
    "datalore": {
     "hide_input_from_viewers": true,
     "hide_output_from_viewers": true,
     "node_id": "2UkrWLgMibi5ijG13VCdqJ",
     "type": "CODE"
    },
    "vscode": {
     "languageId": "python"
    }
   },
   "outputs": [],
   "source": [
    "s[1:5]"
   ]
  },
  {
   "attachments": {},
   "cell_type": "markdown",
   "metadata": {
    "datalore": {
     "hide_input_from_viewers": true,
     "hide_output_from_viewers": true,
     "node_id": "8xHwIIJVv0qzGuMHAPpvfI",
     "type": "MD"
    }
   },
   "source": [
    "<br>\n",
    "Use negatives to count from the back."
   ]
  },
  {
   "cell_type": "code",
   "execution_count": null,
   "metadata": {
    "datalore": {
     "hide_input_from_viewers": true,
     "hide_output_from_viewers": true,
     "node_id": "US51WY1JNLbj6uhULrAt4W",
     "type": "CODE"
    },
    "vscode": {
     "languageId": "python"
    }
   },
   "outputs": [],
   "source": [
    "s[-4:]"
   ]
  },
  {
   "attachments": {},
   "cell_type": "markdown",
   "metadata": {
    "datalore": {
     "hide_input_from_viewers": true,
     "hide_output_from_viewers": true,
     "node_id": "KbZJ6ppie0SYU13558kuKQ",
     "type": "MD"
    }
   },
   "source": [
    "A second `:` can be used to indicate step size where `array[start:stop:stepsize]`\n",
    "\n",
    "Here we are starting 5th element from the end, and counting backwards by 2 until the beginning of the array is reached."
   ]
  },
  {
   "cell_type": "code",
   "execution_count": null,
   "metadata": {
    "datalore": {
     "hide_input_from_viewers": true,
     "hide_output_from_viewers": true,
     "node_id": "z7vX6rpXSLK8BEpe9F3Sav",
     "type": "CODE"
    },
    "vscode": {
     "languageId": "python"
    }
   },
   "outputs": [],
   "source": [
    "s[-5::-2]"
   ]
  },
  {
   "attachments": {},
   "cell_type": "markdown",
   "metadata": {
    "datalore": {
     "hide_input_from_viewers": true,
     "hide_output_from_viewers": true,
     "node_id": "XzcO29GJ4kzkO1aev9eFwI",
     "type": "MD"
    }
   },
   "source": [
    "Now, let's look at a multidimensional array."
   ]
  },
  {
   "cell_type": "code",
   "execution_count": null,
   "metadata": {
    "datalore": {
     "hide_input_from_viewers": true,
     "hide_output_from_viewers": true,
     "node_id": "DSZkXI1vEv8NLe4aoyWyVq",
     "type": "CODE"
    },
    "vscode": {
     "languageId": "python"
    }
   },
   "outputs": [],
   "source": [
    "r = np.arange(36)\n",
    "r.resize((6, 6))\n",
    "r"
   ]
  },
  {
   "attachments": {},
   "cell_type": "markdown",
   "metadata": {
    "datalore": {
     "hide_input_from_viewers": true,
     "hide_output_from_viewers": true,
     "node_id": "8lh6NHAyBhqupdGuNIkS8C",
     "type": "MD"
    }
   },
   "source": [
    "We can still use bracket notation to slice, but this time, we add one more dimension to it where the first dimension is the row, and the second dimension is the column: `array[row, column]`"
   ]
  },
  {
   "cell_type": "code",
   "execution_count": null,
   "metadata": {
    "datalore": {
     "hide_input_from_viewers": true,
     "hide_output_from_viewers": true,
     "node_id": "ovGL9k8TjZuHH5cGFIqZuw",
     "type": "CODE"
    },
    "vscode": {
     "languageId": "python"
    }
   },
   "outputs": [],
   "source": [
    "r[2, 2]"
   ]
  },
  {
   "attachments": {},
   "cell_type": "markdown",
   "metadata": {
    "datalore": {
     "hide_input_from_viewers": true,
     "hide_output_from_viewers": true,
     "node_id": "AcAMbopR75rkcCFjb4noCm",
     "type": "MD"
    }
   },
   "source": [
    "Similarly, we can use `:` to select a range of rows and/or columns"
   ]
  },
  {
   "cell_type": "code",
   "execution_count": null,
   "metadata": {
    "datalore": {
     "hide_input_from_viewers": true,
     "hide_output_from_viewers": true,
     "node_id": "LbEryrEnOsaIjD9OggSfwx",
     "type": "CODE"
    },
    "vscode": {
     "languageId": "python"
    }
   },
   "outputs": [],
   "source": [
    "r[3, 3:6]"
   ]
  },
  {
   "attachments": {},
   "cell_type": "markdown",
   "metadata": {
    "datalore": {
     "hide_input_from_viewers": true,
     "hide_output_from_viewers": true,
     "node_id": "BaCCWAg1ypolPXQln9ZITS",
     "type": "MD"
    }
   },
   "source": [
    "Here we are selecting all the rows up to (and not including) row 2, and all the columns up to (and not including) the last column."
   ]
  },
  {
   "cell_type": "code",
   "execution_count": null,
   "metadata": {
    "datalore": {
     "hide_input_from_viewers": true,
     "hide_output_from_viewers": true,
     "node_id": "6VUIgapSmeqyRjYNbnjiNE",
     "type": "CODE"
    },
    "vscode": {
     "languageId": "python"
    }
   },
   "outputs": [],
   "source": [
    "r[:2, :-1]"
   ]
  },
  {
   "attachments": {},
   "cell_type": "markdown",
   "metadata": {
    "datalore": {
     "hide_input_from_viewers": true,
     "hide_output_from_viewers": true,
     "node_id": "GPD7uL5BMYgzNRO9wpx7nd",
     "type": "MD"
    }
   },
   "source": [
    "This is a slice of the last row, and only every other element."
   ]
  },
  {
   "cell_type": "code",
   "execution_count": null,
   "metadata": {
    "datalore": {
     "hide_input_from_viewers": true,
     "hide_output_from_viewers": true,
     "node_id": "N7h8z21Dq1HQXUnTwEeL2h",
     "type": "CODE"
    },
    "vscode": {
     "languageId": "python"
    }
   },
   "outputs": [],
   "source": [
    "r[-1, ::2]"
   ]
  },
  {
   "attachments": {},
   "cell_type": "markdown",
   "metadata": {
    "datalore": {
     "hide_input_from_viewers": true,
     "hide_output_from_viewers": true,
     "node_id": "ICKoll4vKDYXEFYEg7uhjT",
     "type": "MD"
    }
   },
   "source": [
    "We can also perform conditional indexing. Here we are selecting values from the array that are greater than 30. (Also see `np.where`)"
   ]
  },
  {
   "cell_type": "code",
   "execution_count": null,
   "metadata": {
    "datalore": {
     "hide_input_from_viewers": true,
     "hide_output_from_viewers": true,
     "node_id": "Sh2YPQyxRUkveqbvABYSiT",
     "type": "CODE"
    },
    "vscode": {
     "languageId": "python"
    }
   },
   "outputs": [],
   "source": [
    "r[r > 30]"
   ]
  },
  {
   "attachments": {},
   "cell_type": "markdown",
   "metadata": {
    "datalore": {
     "hide_input_from_viewers": true,
     "hide_output_from_viewers": true,
     "node_id": "4O1piIIJ5264IrLhPgS70p",
     "type": "MD"
    }
   },
   "source": [
    "Here we are assigning all values in the array that are greater than 30 to the value of 30."
   ]
  },
  {
   "cell_type": "code",
   "execution_count": null,
   "metadata": {
    "datalore": {
     "hide_input_from_viewers": true,
     "hide_output_from_viewers": true,
     "node_id": "aUdAPqE8fKDM2sUBmiaFAe",
     "type": "CODE"
    },
    "vscode": {
     "languageId": "python"
    }
   },
   "outputs": [],
   "source": [
    "r[r > 30] = 30\n",
    "r"
   ]
  },
  {
   "attachments": {},
   "cell_type": "markdown",
   "metadata": {
    "datalore": {
     "hide_input_from_viewers": true,
     "hide_output_from_viewers": true,
     "node_id": "5883a0M1gyU0xmonxQTbHj",
     "type": "MD"
    }
   },
   "source": [
    "## Copying Data\n",
    "Be careful with copying and modifying arrays in NumPy! Let's walk through some common errors using the `r` array.\n",
    "\n",
    "`r2` is a slice of `r`"
   ]
  },
  {
   "cell_type": "code",
   "execution_count": null,
   "metadata": {
    "datalore": {
     "hide_input_from_viewers": true,
     "hide_output_from_viewers": true,
     "node_id": "ljfPJLMWaDDAQTXQOYYMlH",
     "type": "CODE"
    },
    "vscode": {
     "languageId": "python"
    }
   },
   "outputs": [],
   "source": [
    "r2 = r[:3,:3]\n",
    "r2"
   ]
  },
  {
   "attachments": {},
   "cell_type": "markdown",
   "metadata": {
    "datalore": {
     "hide_input_from_viewers": true,
     "hide_output_from_viewers": true,
     "node_id": "FZrR7NGGbPyEn4zhpn8lXv",
     "type": "MD"
    }
   },
   "source": [
    "Set this slice's values to zero (`[:]` selects the entire array)"
   ]
  },
  {
   "cell_type": "code",
   "execution_count": null,
   "metadata": {
    "datalore": {
     "hide_input_from_viewers": true,
     "hide_output_from_viewers": true,
     "node_id": "SDF09ihNw1WDFPRXAxVX7T",
     "type": "CODE"
    },
    "vscode": {
     "languageId": "python"
    }
   },
   "outputs": [],
   "source": [
    "r2[:] = 0\n",
    "r2"
   ]
  },
  {
   "attachments": {},
   "cell_type": "markdown",
   "metadata": {
    "datalore": {
     "hide_input_from_viewers": true,
     "hide_output_from_viewers": true,
     "node_id": "aJbsFoaBrP0IZS1PEwOblI",
     "type": "MD"
    }
   },
   "source": [
    "Note that `r` has also been changed!"
   ]
  },
  {
   "cell_type": "code",
   "execution_count": null,
   "metadata": {
    "datalore": {
     "hide_input_from_viewers": true,
     "hide_output_from_viewers": true,
     "node_id": "ej1Mvs03cewFb2mU1nq5Nu",
     "type": "CODE"
    },
    "vscode": {
     "languageId": "python"
    }
   },
   "outputs": [],
   "source": [
    "r"
   ]
  },
  {
   "attachments": {},
   "cell_type": "markdown",
   "metadata": {
    "datalore": {
     "hide_input_from_viewers": true,
     "hide_output_from_viewers": true,
     "node_id": "1rsWKImmkcivhw0iqUkyy3",
     "type": "MD"
    }
   },
   "source": [
    "To avoid this, use `r.copy` to create a copy that will not affect the original array"
   ]
  },
  {
   "cell_type": "code",
   "execution_count": null,
   "metadata": {
    "datalore": {
     "hide_input_from_viewers": true,
     "hide_output_from_viewers": true,
     "node_id": "XZAqVBkuSWCt9rJoC4uoJn",
     "type": "CODE"
    },
    "vscode": {
     "languageId": "python"
    }
   },
   "outputs": [],
   "source": [
    "r_copy = r.copy()\n",
    "r_copy"
   ]
  },
  {
   "attachments": {},
   "cell_type": "markdown",
   "metadata": {
    "datalore": {
     "hide_input_from_viewers": true,
     "hide_output_from_viewers": true,
     "node_id": "hhV4vx5EaZwW05HLsmRGO2",
     "type": "MD"
    }
   },
   "source": [
    "Now when `r_copy` is modified, `r` will not be changed."
   ]
  },
  {
   "cell_type": "code",
   "execution_count": null,
   "metadata": {
    "datalore": {
     "hide_input_from_viewers": true,
     "hide_output_from_viewers": true,
     "node_id": "bgDAUSUtoiahkhuScMxKNX",
     "type": "CODE"
    },
    "vscode": {
     "languageId": "python"
    }
   },
   "outputs": [],
   "source": [
    "r_copy[:] = 10\n",
    "print(r_copy, '\\n')\n",
    "print(r)"
   ]
  },
  {
   "attachments": {},
   "cell_type": "markdown",
   "metadata": {
    "datalore": {
     "hide_input_from_viewers": true,
     "hide_output_from_viewers": true,
     "node_id": "NXuCjV5wNuKLCkbCZLrKXe",
     "type": "MD"
    }
   },
   "source": [
    "## Iterating Over Arrays\n",
    "Let demonstrate how to iterate over Numpy arrays. We start by creating a new 4-by-3 array of random numbers 0 to 9."
   ]
  },
  {
   "cell_type": "code",
   "execution_count": null,
   "metadata": {
    "datalore": {
     "hide_input_from_viewers": true,
     "hide_output_from_viewers": true,
     "node_id": "EKqRcMaFePwXljrYTapcxo",
     "type": "CODE"
    },
    "vscode": {
     "languageId": "python"
    }
   },
   "outputs": [],
   "source": [
    "test = np.random.randint(0, 10, (4,3))\n",
    "test"
   ]
  },
  {
   "attachments": {},
   "cell_type": "markdown",
   "metadata": {
    "datalore": {
     "hide_input_from_viewers": true,
     "hide_output_from_viewers": true,
     "node_id": "Mtpgk2my2i6UzQhbWtiQQ4",
     "type": "MD"
    }
   },
   "source": [
    "Iterate by row:"
   ]
  },
  {
   "cell_type": "code",
   "execution_count": null,
   "metadata": {
    "datalore": {
     "hide_input_from_viewers": true,
     "hide_output_from_viewers": true,
     "node_id": "GmCf5cSu9P3bUckvRl3HPt",
     "type": "CODE"
    },
    "vscode": {
     "languageId": "python"
    }
   },
   "outputs": [],
   "source": [
    "for row in test:\n",
    "    print(row)"
   ]
  },
  {
   "attachments": {},
   "cell_type": "markdown",
   "metadata": {
    "datalore": {
     "hide_input_from_viewers": true,
     "hide_output_from_viewers": true,
     "node_id": "eqzkllA1vThfJ57fNPLAJn",
     "type": "MD"
    }
   },
   "source": [
    "Iterate by index:"
   ]
  },
  {
   "cell_type": "code",
   "execution_count": null,
   "metadata": {
    "datalore": {
     "hide_input_from_viewers": true,
     "hide_output_from_viewers": true,
     "node_id": "WkJpYqVeDCmDXPmC0QKIds",
     "type": "CODE"
    },
    "vscode": {
     "languageId": "python"
    }
   },
   "outputs": [],
   "source": [
    "for i in range(len(test)):\n",
    "    print(test[i])"
   ]
  },
  {
   "attachments": {},
   "cell_type": "markdown",
   "metadata": {
    "datalore": {
     "hide_input_from_viewers": true,
     "hide_output_from_viewers": true,
     "node_id": "PQ0GGmXVee9h1Q7zJsLbTv",
     "type": "MD"
    }
   },
   "source": [
    "Iterate by row and index:"
   ]
  },
  {
   "cell_type": "code",
   "execution_count": null,
   "metadata": {
    "datalore": {
     "hide_input_from_viewers": true,
     "hide_output_from_viewers": true,
     "node_id": "ApuFTueIakJpAnbVrR2BJ4",
     "type": "CODE"
    },
    "vscode": {
     "languageId": "python"
    }
   },
   "outputs": [],
   "source": [
    "for i, row in enumerate(test):\n",
    "    print('row', i, 'is', row)"
   ]
  },
  {
   "attachments": {},
   "cell_type": "markdown",
   "metadata": {
    "datalore": {
     "hide_input_from_viewers": true,
     "hide_output_from_viewers": true,
     "node_id": "7uava8XgAqyZoaiuhyem7j",
     "type": "MD"
    }
   },
   "source": [
    "We can use `zip` to iterate over multiple iterables."
   ]
  },
  {
   "cell_type": "code",
   "execution_count": null,
   "metadata": {
    "datalore": {
     "hide_input_from_viewers": true,
     "hide_output_from_viewers": true,
     "node_id": "JaY8lbDqlilGAA5DA14rRu",
     "type": "CODE"
    },
    "vscode": {
     "languageId": "python"
    }
   },
   "outputs": [],
   "source": [
    "test2 = test**2\n",
    "test2"
   ]
  },
  {
   "cell_type": "code",
   "execution_count": null,
   "metadata": {
    "datalore": {
     "hide_input_from_viewers": true,
     "hide_output_from_viewers": true,
     "node_id": "s7JyXrLgKk7LuHDmo9A3Xf",
     "type": "CODE"
    },
    "vscode": {
     "languageId": "python"
    }
   },
   "outputs": [],
   "source": [
    "for i, j in zip(test, test2):\n",
    "    print(i,'+',j,'=',i+j)"
   ]
  },
  {
   "attachments": {},
   "cell_type": "markdown",
   "metadata": {
    "datalore": {
     "hide_input_from_viewers": true,
     "hide_output_from_viewers": true,
     "node_id": "B8Liw3fUSK8JQuRnagX1Hi",
     "type": "MD"
    }
   },
   "source": [
    "# Break \n",
    "\n",
    "**Dumbo Octopus Fact**: The dumbo octopus is officially the cutest deep-sea octopus. No, this is not actually a fact, but I dare you to fight me on this - Google 'Dumbo octopus' and you'll know why.\n",
    "\n",
    "We'll shortly move on to **6. Pandas**, so take a breather before we learn another Python package!"
   ]
  }
 ],
 "metadata": {
  "datalore": {
   "computation_mode": "JUPYTER",
   "packages": [],
   "version": 1
  },
  "kernelspec": {
   "display_name": "Python",
   "language": "python",
   "name": "python"
  }
 },
 "nbformat": 4,
 "nbformat_minor": 4
}
